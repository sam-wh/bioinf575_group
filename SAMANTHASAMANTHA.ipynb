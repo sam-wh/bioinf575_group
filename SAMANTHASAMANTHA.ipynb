{
 "cells": [
  {
   "cell_type": "code",
   "execution_count": 26,
   "id": "c13bac56-802d-42ef-9fa9-85be9d38122c",
   "metadata": {},
   "outputs": [],
   "source": [
    "# Initialize\n",
    "\n",
    "import csv\n",
    "from collections import Counter\n"
   ]
  },
  {
   "cell_type": "code",
   "execution_count": 44,
   "id": "0e1cf4f2-4457-450a-b0e2-eafc1c942f69",
   "metadata": {},
   "outputs": [
    {
     "name": "stdout",
     "output_type": "stream",
     "text": [
      "Counter()\n"
     ]
    }
   ],
   "source": [
    "gene_counter = Counter()\n",
    "print(gene_counter)"
   ]
  },
  {
   "cell_type": "code",
   "execution_count": 46,
   "id": "a9351fbe-91fb-41d7-9af2-2a1d56fdff91",
   "metadata": {},
   "outputs": [
    {
     "name": "stdout",
     "output_type": "stream",
     "text": [
      "YESSSSSSSSSSSSSSSSSS\n"
     ]
    }
   ],
   "source": [
    "gene_counter = Counter()\n",
    "\n",
    "# Read through each row of the csv, index out only the list of overlapping genes, split by semicolon space and \n",
    "# add to a counter of genes. \n",
    "with open('KEGG_crosstalk.csv', 'r') as file:\n",
    "    reader = csv.reader(file)\n",
    "    next(reader) \n",
    "    for row in reader:\n",
    "        items = row[5].split(\"; \")  # Split each string by \"; \"\n",
    "        gene_counter.update(items)\n",
    "\n",
    "print(\"YESSSSSSSSSSSSSSSSSS\")"
   ]
  },
  {
   "cell_type": "code",
   "execution_count": 49,
   "id": "57d6d9f7-0d07-44e3-a6ed-d5b403b1f399",
   "metadata": {},
   "outputs": [],
   "source": [
    "# S\n",
    "\n",
    "with open('Gene_Counts.txt', 'w') as file:\n",
    "    for gene, count in gene_counter.items():\n",
    "        file.write(f\"{gene}: {count}\\n\")"
   ]
  }
 ],
 "metadata": {
  "kernelspec": {
   "display_name": "Python 3 (ipykernel)",
   "language": "python",
   "name": "python3"
  },
  "language_info": {
   "codemirror_mode": {
    "name": "ipython",
    "version": 3
   },
   "file_extension": ".py",
   "mimetype": "text/x-python",
   "name": "python",
   "nbconvert_exporter": "python",
   "pygments_lexer": "ipython3",
   "version": "3.12.3"
  }
 },
 "nbformat": 4,
 "nbformat_minor": 5
}
