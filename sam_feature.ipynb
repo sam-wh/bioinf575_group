{
 "cells": [
  {
   "cell_type": "code",
   "execution_count": null,
   "id": "9e256b00-89c1-431c-a57f-cb2815e42ac7",
   "metadata": {},
   "outputs": [],
   "source": []
  },
  {
   "cell_type": "markdown",
   "id": "a770ae6a-7a95-4938-a6f9-a266a25b3fef",
   "metadata": {},
   "source": [
    "### Sam's new feature: small GTPase pathway interactions in cancer\n",
    "Small GTPases are vital cellular signaling molecules. The Ras family of small GTPases is the best known and best-studied in the context of cancer proliferation; however, other small GTPases are also known to be involved in diseases. This feature allows the comparison and visualization of KEGG pathways between some of the most commonly studied small GTPases. "
   ]
  },
  {
   "cell_type": "code",
   "execution_count": 3,
   "id": "0d1c246b-87f4-49c7-9613-c04bdf25cd50",
   "metadata": {},
   "outputs": [],
   "source": [
    "import pandas as pd"
   ]
  },
  {
   "cell_type": "code",
   "execution_count": 1,
   "id": "e1287d00-842c-44b8-8fff-840ce409b1d1",
   "metadata": {},
   "outputs": [],
   "source": [
    "# kras = hsa:4893\n",
    "# rhoa = hsa:387\n",
    "# arf1 = hsa:375\n",
    "\n",
    "gtpase_dict = {'kras': 'hsa:4893',\n",
    "               'rhoa': 'hsa:387',\n",
    "               'arf1': 'hsa:375',\n",
    "               'rab1a': 'hsa:5861',\n",
    "               'ran': 'hsa:5901'\n",
    "              }"
   ]
  },
  {
   "cell_type": "code",
   "execution_count": 7,
   "id": "0b5d9c6b-ad41-4513-b890-a98153f853b5",
   "metadata": {},
   "outputs": [
    {
     "data": {
      "text/plain": [
       "dict_values(['hsa:4893', 'hsa:387', 'hsa:375', 'hsa:5861', 'hsa:5901'])"
      ]
     },
     "execution_count": 7,
     "metadata": {},
     "output_type": "execute_result"
    }
   ],
   "source": [
    "gtpase_dict.values()"
   ]
  },
  {
   "cell_type": "code",
   "execution_count": 17,
   "id": "1920f515-5898-4a39-be29-40956becd62f",
   "metadata": {},
   "outputs": [],
   "source": [
    "# read in dataframe of gene symbols with pathways\n",
    "gene_df = pd.read_csv(\"gene_pathway_gene_symbols.csv\")"
   ]
  },
  {
   "cell_type": "code",
   "execution_count": 19,
   "id": "3f755d66-1695-4000-b50c-a9b446ad0859",
   "metadata": {},
   "outputs": [
    {
     "data": {
      "text/html": [
       "<div>\n",
       "<style scoped>\n",
       "    .dataframe tbody tr th:only-of-type {\n",
       "        vertical-align: middle;\n",
       "    }\n",
       "\n",
       "    .dataframe tbody tr th {\n",
       "        vertical-align: top;\n",
       "    }\n",
       "\n",
       "    .dataframe thead th {\n",
       "        text-align: right;\n",
       "    }\n",
       "</style>\n",
       "<table border=\"1\" class=\"dataframe\">\n",
       "  <thead>\n",
       "    <tr style=\"text-align: right;\">\n",
       "      <th></th>\n",
       "      <th>GENE_ID</th>\n",
       "      <th>PATHWAY_ID</th>\n",
       "      <th>PATHWAY_NAME</th>\n",
       "      <th>GENE_SYMBOL</th>\n",
       "      <th>GENE_NAME</th>\n",
       "    </tr>\n",
       "  </thead>\n",
       "  <tbody>\n",
       "    <tr>\n",
       "      <th>0</th>\n",
       "      <td>hsa:10327</td>\n",
       "      <td>path:hsa00010</td>\n",
       "      <td>Glycolysis / Gluconeogenesis - Homo sapiens (h...</td>\n",
       "      <td>AKR1A1, ALDR1, ALR, ARM, DD3, HEL-S-6</td>\n",
       "      <td>aldo-keto reductase family 1 member A1</td>\n",
       "    </tr>\n",
       "    <tr>\n",
       "      <th>1</th>\n",
       "      <td>hsa:124</td>\n",
       "      <td>path:hsa00010</td>\n",
       "      <td>Glycolysis / Gluconeogenesis - Homo sapiens (h...</td>\n",
       "      <td>ADH1A, ADH1</td>\n",
       "      <td>alcohol dehydrogenase 1A (class I), alpha poly...</td>\n",
       "    </tr>\n",
       "    <tr>\n",
       "      <th>2</th>\n",
       "      <td>hsa:125</td>\n",
       "      <td>path:hsa00010</td>\n",
       "      <td>Glycolysis / Gluconeogenesis - Homo sapiens (h...</td>\n",
       "      <td>ADH1B, ADH2, HEL-S-117</td>\n",
       "      <td>alcohol dehydrogenase 1B (class I), beta polyp...</td>\n",
       "    </tr>\n",
       "    <tr>\n",
       "      <th>3</th>\n",
       "      <td>hsa:126</td>\n",
       "      <td>path:hsa00010</td>\n",
       "      <td>Glycolysis / Gluconeogenesis - Homo sapiens (h...</td>\n",
       "      <td>ADH1C, ADH3</td>\n",
       "      <td>alcohol dehydrogenase 1C (class I), gamma poly...</td>\n",
       "    </tr>\n",
       "    <tr>\n",
       "      <th>4</th>\n",
       "      <td>hsa:127</td>\n",
       "      <td>path:hsa00010</td>\n",
       "      <td>Glycolysis / Gluconeogenesis - Homo sapiens (h...</td>\n",
       "      <td>ADH4, ADH-2, HEL-S-4</td>\n",
       "      <td>alcohol dehydrogenase 4 (class II), pi polypep...</td>\n",
       "    </tr>\n",
       "  </tbody>\n",
       "</table>\n",
       "</div>"
      ],
      "text/plain": [
       "     GENE_ID     PATHWAY_ID  \\\n",
       "0  hsa:10327  path:hsa00010   \n",
       "1    hsa:124  path:hsa00010   \n",
       "2    hsa:125  path:hsa00010   \n",
       "3    hsa:126  path:hsa00010   \n",
       "4    hsa:127  path:hsa00010   \n",
       "\n",
       "                                        PATHWAY_NAME  \\\n",
       "0  Glycolysis / Gluconeogenesis - Homo sapiens (h...   \n",
       "1  Glycolysis / Gluconeogenesis - Homo sapiens (h...   \n",
       "2  Glycolysis / Gluconeogenesis - Homo sapiens (h...   \n",
       "3  Glycolysis / Gluconeogenesis - Homo sapiens (h...   \n",
       "4  Glycolysis / Gluconeogenesis - Homo sapiens (h...   \n",
       "\n",
       "                             GENE_SYMBOL  \\\n",
       "0  AKR1A1, ALDR1, ALR, ARM, DD3, HEL-S-6   \n",
       "1                            ADH1A, ADH1   \n",
       "2                 ADH1B, ADH2, HEL-S-117   \n",
       "3                            ADH1C, ADH3   \n",
       "4                   ADH4, ADH-2, HEL-S-4   \n",
       "\n",
       "                                           GENE_NAME  \n",
       "0             aldo-keto reductase family 1 member A1  \n",
       "1  alcohol dehydrogenase 1A (class I), alpha poly...  \n",
       "2  alcohol dehydrogenase 1B (class I), beta polyp...  \n",
       "3  alcohol dehydrogenase 1C (class I), gamma poly...  \n",
       "4  alcohol dehydrogenase 4 (class II), pi polypep...  "
      ]
     },
     "execution_count": 19,
     "metadata": {},
     "output_type": "execute_result"
    }
   ],
   "source": [
    "gene_df.head()"
   ]
  },
  {
   "cell_type": "code",
   "execution_count": null,
   "id": "fa65336e-3748-45a3-92f4-d7076baa9408",
   "metadata": {},
   "outputs": [],
   "source": []
  }
 ],
 "metadata": {
  "kernelspec": {
   "display_name": "Python 3 (ipykernel)",
   "language": "python",
   "name": "python3"
  },
  "language_info": {
   "codemirror_mode": {
    "name": "ipython",
    "version": 3
   },
   "file_extension": ".py",
   "mimetype": "text/x-python",
   "name": "python",
   "nbconvert_exporter": "python",
   "pygments_lexer": "ipython3",
   "version": "3.12.3"
  }
 },
 "nbformat": 4,
 "nbformat_minor": 5
}
