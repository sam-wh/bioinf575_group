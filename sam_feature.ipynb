{
 "cells": [
  {
   "cell_type": "markdown",
   "id": "a770ae6a-7a95-4938-a6f9-a266a25b3fef",
   "metadata": {},
   "source": [
    "### Sam's new feature: small GTPase pathway interactions in cancer\n",
    "Small GTPases are vital cellular signaling molecules. The Ras family of small GTPases is the best known and best-studied in the context of cancer proliferation; however, other small GTPases are also known to be involved in carcinogenesis, as well as other diseases. This feature allows the comparison and visualization of KEGG pathways between some of the most commonly studied small GTPases. "
   ]
  },
  {
   "cell_type": "code",
   "execution_count": 225,
   "id": "0d1c246b-87f4-49c7-9613-c04bdf25cd50",
   "metadata": {},
   "outputs": [],
   "source": [
    "import pandas as pd\n",
    "from matplotlib_venn import venn2\n",
    "from matplotlib_venn import venn3"
   ]
  },
  {
   "cell_type": "raw",
   "id": "53079d79-2e17-4374-8eb0-fc9e8aa64972",
   "metadata": {},
   "source": [
    "gtpase_dict = {'kras': 'hsa:4893',\n",
    "               'rhoa': 'hsa:387',\n",
    "               'arf1': 'hsa:375',\n",
    "               'rab1a': 'hsa:5861',\n",
    "               'ran': 'hsa:5901'\n",
    "              }"
   ]
  },
  {
   "cell_type": "code",
   "execution_count": 17,
   "id": "1920f515-5898-4a39-be29-40956becd62f",
   "metadata": {},
   "outputs": [],
   "source": [
    "# read in dataframe of gene symbols with pathways\n",
    "gene_df = pd.read_csv(\"gene_pathway_gene_symbols.csv\")"
   ]
  },
  {
   "cell_type": "markdown",
   "id": "a52f72ae-d08b-4ff4-a4a6-38e52e6e3b98",
   "metadata": {},
   "source": [
    "### Feature one: create dictionary of small GTPases and their associated kegg pathways.\n",
    "This function takes the gene_pathway_gene_symbols csv and uses it to create a dictionary."
   ]
  },
  {
   "cell_type": "code",
   "execution_count": 286,
   "id": "6a3bbe5d-bc7f-442f-b6d9-1bd0ccacfdd3",
   "metadata": {},
   "outputs": [],
   "source": [
    "# function that returns a set of pathways associated with a particular gene_id\n",
    "def pathway_setter_deluxe(fdict, df):#, id):\n",
    "    key_list = fdict.keys()\n",
    "    val_list = []\n",
    "    for value in fdict.values():\n",
    "        val_list.append(set(gene_df.loc[gene_df['GENE_ID'] == value, 'PATHWAY_NAME']))\n",
    "    pathway_dict = dict(zip(key_list, val_list))\n",
    "    return pathway_dict\n"
   ]
  },
  {
   "cell_type": "code",
   "execution_count": 288,
   "id": "9b4e6eb7-3553-4079-986f-71eec256649b",
   "metadata": {},
   "outputs": [
    {
     "data": {
      "text/plain": [
       "{'kras': {'AGE-RAGE signaling pathway in diabetic complications - Homo sapiens (human)',\n",
       "  'Acute myeloid leukemia - Homo sapiens (human)',\n",
       "  'Alcoholism - Homo sapiens (human)',\n",
       "  'Alzheimer disease - Homo sapiens (human)',\n",
       "  'Apelin signaling pathway - Homo sapiens (human)',\n",
       "  'Apoptosis - Homo sapiens (human)',\n",
       "  'Autophagy - animal - Homo sapiens (human)',\n",
       "  'Axon guidance - Homo sapiens (human)',\n",
       "  'B cell receptor signaling pathway - Homo sapiens (human)',\n",
       "  'Bladder cancer - Homo sapiens (human)',\n",
       "  'Breast cancer - Homo sapiens (human)',\n",
       "  'C-type lectin receptor signaling pathway - Homo sapiens (human)',\n",
       "  'Cellular senescence - Homo sapiens (human)',\n",
       "  'Central carbon metabolism in cancer - Homo sapiens (human)',\n",
       "  'Chemical carcinogenesis - reactive oxygen species - Homo sapiens (human)',\n",
       "  'Chemical carcinogenesis - receptor activation - Homo sapiens (human)',\n",
       "  'Chemokine signaling pathway - Homo sapiens (human)',\n",
       "  'Choline metabolism in cancer - Homo sapiens (human)',\n",
       "  'Cholinergic synapse - Homo sapiens (human)',\n",
       "  'Chronic myeloid leukemia - Homo sapiens (human)',\n",
       "  'Colorectal cancer - Homo sapiens (human)',\n",
       "  'EGFR tyrosine kinase inhibitor resistance - Homo sapiens (human)',\n",
       "  'Endocrine resistance - Homo sapiens (human)',\n",
       "  'Endometrial cancer - Homo sapiens (human)',\n",
       "  'ErbB signaling pathway - Homo sapiens (human)',\n",
       "  'Estrogen signaling pathway - Homo sapiens (human)',\n",
       "  'Fc epsilon RI signaling pathway - Homo sapiens (human)',\n",
       "  'FoxO signaling pathway - Homo sapiens (human)',\n",
       "  'Gap junction - Homo sapiens (human)',\n",
       "  'Gastric cancer - Homo sapiens (human)',\n",
       "  'Glioma - Homo sapiens (human)',\n",
       "  'GnRH secretion - Homo sapiens (human)',\n",
       "  'GnRH signaling pathway - Homo sapiens (human)',\n",
       "  'Growth hormone synthesis, secretion and action - Homo sapiens (human)',\n",
       "  'Hepatitis B - Homo sapiens (human)',\n",
       "  'Hepatitis C - Homo sapiens (human)',\n",
       "  'Hepatocellular carcinoma - Homo sapiens (human)',\n",
       "  'Human T-cell leukemia virus 1 infection - Homo sapiens (human)',\n",
       "  'Human cytomegalovirus infection - Homo sapiens (human)',\n",
       "  'Human immunodeficiency virus 1 infection - Homo sapiens (human)',\n",
       "  'Human papillomavirus infection - Homo sapiens (human)',\n",
       "  'Insulin signaling pathway - Homo sapiens (human)',\n",
       "  'Kaposi sarcoma-associated herpesvirus infection - Homo sapiens (human)',\n",
       "  'Lipid and atherosclerosis - Homo sapiens (human)',\n",
       "  'Long-term depression - Homo sapiens (human)',\n",
       "  'Long-term potentiation - Homo sapiens (human)',\n",
       "  'Longevity regulating pathway - Homo sapiens (human)',\n",
       "  'Longevity regulating pathway - multiple species - Homo sapiens (human)',\n",
       "  'MAPK signaling pathway - Homo sapiens (human)',\n",
       "  'Melanogenesis - Homo sapiens (human)',\n",
       "  'Melanoma - Homo sapiens (human)',\n",
       "  'MicroRNAs in cancer - Homo sapiens (human)',\n",
       "  'Mitophagy - animal - Homo sapiens (human)',\n",
       "  'Natural killer cell mediated cytotoxicity - Homo sapiens (human)',\n",
       "  'Neurotrophin signaling pathway - Homo sapiens (human)',\n",
       "  'Non-small cell lung cancer - Homo sapiens (human)',\n",
       "  'Oxytocin signaling pathway - Homo sapiens (human)',\n",
       "  'PD-L1 expression and PD-1 checkpoint pathway in cancer - Homo sapiens (human)',\n",
       "  'PI3K-Akt signaling pathway - Homo sapiens (human)',\n",
       "  'Pathways in cancer - Homo sapiens (human)',\n",
       "  'Pathways of neurodegeneration - multiple diseases - Homo sapiens (human)',\n",
       "  'Phospholipase D signaling pathway - Homo sapiens (human)',\n",
       "  'Prolactin signaling pathway - Homo sapiens (human)',\n",
       "  'Prostate cancer - Homo sapiens (human)',\n",
       "  'Proteoglycans in cancer - Homo sapiens (human)',\n",
       "  'Rap1 signaling pathway - Homo sapiens (human)',\n",
       "  'Ras signaling pathway - Homo sapiens (human)',\n",
       "  'Regulation of actin cytoskeleton - Homo sapiens (human)',\n",
       "  'Relaxin signaling pathway - Homo sapiens (human)',\n",
       "  'Renal cell carcinoma - Homo sapiens (human)',\n",
       "  'Serotonergic synapse - Homo sapiens (human)',\n",
       "  'Signaling pathways regulating pluripotency of stem cells - Homo sapiens (human)',\n",
       "  'Sphingolipid signaling pathway - Homo sapiens (human)',\n",
       "  'T cell receptor signaling pathway - Homo sapiens (human)',\n",
       "  'Thermogenesis - Homo sapiens (human)',\n",
       "  'Thyroid cancer - Homo sapiens (human)',\n",
       "  'Thyroid hormone signaling pathway - Homo sapiens (human)',\n",
       "  'VEGF signaling pathway - Homo sapiens (human)',\n",
       "  'Viral carcinogenesis - Homo sapiens (human)',\n",
       "  'mTOR signaling pathway - Homo sapiens (human)'},\n",
       " 'rhoa': {'Adherens junction - Homo sapiens (human)',\n",
       "  'Axon guidance - Homo sapiens (human)',\n",
       "  'Bacterial invasion of epithelial cells - Homo sapiens (human)',\n",
       "  'C-type lectin receptor signaling pathway - Homo sapiens (human)',\n",
       "  'Chemokine signaling pathway - Homo sapiens (human)',\n",
       "  'Colorectal cancer - Homo sapiens (human)',\n",
       "  'Endocytosis - Homo sapiens (human)',\n",
       "  'Fluid shear stress and atherosclerosis - Homo sapiens (human)',\n",
       "  'Focal adhesion - Homo sapiens (human)',\n",
       "  'Human cytomegalovirus infection - Homo sapiens (human)',\n",
       "  'Leukocyte transendothelial migration - Homo sapiens (human)',\n",
       "  'Lipid and atherosclerosis - Homo sapiens (human)',\n",
       "  'MicroRNAs in cancer - Homo sapiens (human)',\n",
       "  'NOD-like receptor signaling pathway - Homo sapiens (human)',\n",
       "  'Neurotrophin signaling pathway - Homo sapiens (human)',\n",
       "  'Oxytocin signaling pathway - Homo sapiens (human)',\n",
       "  'Pancreatic secretion - Homo sapiens (human)',\n",
       "  'Parathyroid hormone synthesis, secretion and action - Homo sapiens (human)',\n",
       "  'Pathogenic Escherichia coli infection - Homo sapiens (human)',\n",
       "  'Pathways in cancer - Homo sapiens (human)',\n",
       "  'Pertussis - Homo sapiens (human)',\n",
       "  'Phospholipase D signaling pathway - Homo sapiens (human)',\n",
       "  'Platelet activation - Homo sapiens (human)',\n",
       "  'Proteoglycans in cancer - Homo sapiens (human)',\n",
       "  'Rap1 signaling pathway - Homo sapiens (human)',\n",
       "  'Ras signaling pathway - Homo sapiens (human)',\n",
       "  'Regulation of actin cytoskeleton - Homo sapiens (human)',\n",
       "  'Salmonella infection - Homo sapiens (human)',\n",
       "  'Shigellosis - Homo sapiens (human)',\n",
       "  'Sphingolipid signaling pathway - Homo sapiens (human)',\n",
       "  'T cell receptor signaling pathway - Homo sapiens (human)',\n",
       "  'TGF-beta signaling pathway - Homo sapiens (human)',\n",
       "  'Tight junction - Homo sapiens (human)',\n",
       "  'Tuberculosis - Homo sapiens (human)',\n",
       "  'Vascular smooth muscle contraction - Homo sapiens (human)',\n",
       "  'Viral carcinogenesis - Homo sapiens (human)',\n",
       "  'Wnt signaling pathway - Homo sapiens (human)',\n",
       "  'Yersinia infection - Homo sapiens (human)',\n",
       "  'cAMP signaling pathway - Homo sapiens (human)',\n",
       "  'cGMP-PKG signaling pathway - Homo sapiens (human)',\n",
       "  'mTOR signaling pathway - Homo sapiens (human)'},\n",
       " 'arf1': {'Endocytosis - Homo sapiens (human)',\n",
       "  'Legionellosis - Homo sapiens (human)',\n",
       "  'Pathogenic Escherichia coli infection - Homo sapiens (human)',\n",
       "  'Phospholipase D signaling pathway - Homo sapiens (human)',\n",
       "  'Salmonella infection - Homo sapiens (human)',\n",
       "  'Shigellosis - Homo sapiens (human)',\n",
       "  'Vibrio cholerae infection - Homo sapiens (human)'},\n",
       " 'rab1a': {'Amyotrophic lateral sclerosis - Homo sapiens (human)',\n",
       "  'Autophagy - animal - Homo sapiens (human)',\n",
       "  'Legionellosis - Homo sapiens (human)',\n",
       "  'Pathogenic Escherichia coli infection - Homo sapiens (human)',\n",
       "  'Pathways of neurodegeneration - multiple diseases - Homo sapiens (human)'},\n",
       " 'ran': {'Human T-cell leukemia virus 1 infection - Homo sapiens (human)',\n",
       "  'Nucleocytoplasmic transport - Homo sapiens (human)',\n",
       "  'Ribosome biogenesis in eukaryotes - Homo sapiens (human)',\n",
       "  'Viral life cycle - HIV-1 - Homo sapiens (human)'}}"
      ]
     },
     "execution_count": 288,
     "metadata": {},
     "output_type": "execute_result"
    }
   ],
   "source": [
    "gtpase_pathways = pathway_setter_deluxe(gtpase_dict, gene_df)\n",
    "gtpase_pathways"
   ]
  },
  {
   "cell_type": "markdown",
   "id": "89bc4c7e-bf30-41e0-850a-4b79b762a469",
   "metadata": {},
   "source": [
    "### Comparison and visualization of KEGG pathways\n",
    "This function allows the comparison of KEGG pathways and puts out a venn diagram of how many pathways they have in common."
   ]
  },
  {
   "cell_type": "code",
   "execution_count": 271,
   "id": "50c5e545-f180-4072-bf19-d2758d5c34f6",
   "metadata": {},
   "outputs": [],
   "source": [
    "def pathway_intersections(fdict, prot1, prot2):\n",
    "    protein1 = fdict[prot1]\n",
    "    protein2 = fdict[prot2]\n",
    "    intersect = protein1.intersection(protein2)\n",
    "    labels = [prot1, prot2]\n",
    "    venn2([protein1, protein2], set_labels = labels)\n",
    "    return intersect"
   ]
  },
  {
   "cell_type": "code",
   "execution_count": 273,
   "id": "970b5e48-7718-4be7-8b8d-925bdb80884b",
   "metadata": {},
   "outputs": [
    {
     "data": {
      "text/plain": [
       "{'Axon guidance - Homo sapiens (human)',\n",
       " 'C-type lectin receptor signaling pathway - Homo sapiens (human)',\n",
       " 'Chemokine signaling pathway - Homo sapiens (human)',\n",
       " 'Colorectal cancer - Homo sapiens (human)',\n",
       " 'Human cytomegalovirus infection - Homo sapiens (human)',\n",
       " 'Lipid and atherosclerosis - Homo sapiens (human)',\n",
       " 'MicroRNAs in cancer - Homo sapiens (human)',\n",
       " 'Neurotrophin signaling pathway - Homo sapiens (human)',\n",
       " 'Oxytocin signaling pathway - Homo sapiens (human)',\n",
       " 'Pathways in cancer - Homo sapiens (human)',\n",
       " 'Phospholipase D signaling pathway - Homo sapiens (human)',\n",
       " 'Proteoglycans in cancer - Homo sapiens (human)',\n",
       " 'Rap1 signaling pathway - Homo sapiens (human)',\n",
       " 'Ras signaling pathway - Homo sapiens (human)',\n",
       " 'Regulation of actin cytoskeleton - Homo sapiens (human)',\n",
       " 'Sphingolipid signaling pathway - Homo sapiens (human)',\n",
       " 'T cell receptor signaling pathway - Homo sapiens (human)',\n",
       " 'Viral carcinogenesis - Homo sapiens (human)',\n",
       " 'mTOR signaling pathway - Homo sapiens (human)'}"
      ]
     },
     "execution_count": 273,
     "metadata": {},
     "output_type": "execute_result"
    },
    {
     "data": {
      "image/png": "[encoded data removed]",
      "text/plain": [
       "<Figure size 640x480 with 1 Axes>"
      ]
     },
     "metadata": {},
     "output_type": "display_data"
    }
   ],
   "source": [
    "# some examples of the function in action\n",
    "pathway_intersections(gtpase_pathways, 'rhoa', 'kras')"
   ]
  },
  {
   "cell_type": "code",
   "execution_count": 277,
   "id": "54501eb2-d669-40a1-b996-8cecd251cdd9",
   "metadata": {},
   "outputs": [
    {
     "data": {
      "text/plain": [
       "set()"
      ]
     },
     "execution_count": 277,
     "metadata": {},
     "output_type": "execute_result"
    },
    {
     "data": {
      "image/png": "[encoded data removed]",
      "text/plain": [
       "<Figure size 640x480 with 1 Axes>"
      ]
     },
     "metadata": {},
     "output_type": "display_data"
    }
   ],
   "source": [
    "pathway_intersections(gtpase_pathways, 'ran', 'rhoa')"
   ]
  },
  {
   "cell_type": "code",
   "execution_count": 290,
   "id": "1da661b0-c6e8-4162-8595-15e43fe72dab",
   "metadata": {},
   "outputs": [
    {
     "data": {
      "text/plain": [
       "{'Legionellosis - Homo sapiens (human)',\n",
       " 'Pathogenic Escherichia coli infection - Homo sapiens (human)'}"
      ]
     },
     "execution_count": 290,
     "metadata": {},
     "output_type": "execute_result"
    },
    {
     "data": {
      "image/png": "[encoded data removed]",
      "text/plain": [
       "<Figure size 640x480 with 1 Axes>"
      ]
     },
     "metadata": {},
     "output_type": "display_data"
    }
   ],
   "source": [
    "pathway_intersections(gtpase_pathways, 'rab1a', 'arf1')"
   ]
  },
  {
   "cell_type": "code",
   "execution_count": null,
   "id": "3c113bd6-451c-4c82-8eaf-33d55a9cb9c4",
   "metadata": {},
   "outputs": [],
   "source": []
  },
  {
   "cell_type": "code",
   "execution_count": null,
   "id": "4fcecafd-73b8-4628-98d9-0f14721689ea",
   "metadata": {},
   "outputs": [],
   "source": []
  }
 ],
 "metadata": {
  "kernelspec": {
   "display_name": "Python 3 (ipykernel)",
   "language": "python",
   "name": "python3"
  },
  "language_info": {
   "codemirror_mode": {
    "name": "ipython",
    "version": 3
   },
   "file_extension": ".py",
   "mimetype": "text/x-python",
   "name": "python",
   "nbconvert_exporter": "python",
   "pygments_lexer": "ipython3",
   "version": "3.12.3"
  }
 },
 "nbformat": 4,
 "nbformat_minor": 5
}
