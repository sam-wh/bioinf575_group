{
 "cells": [
  {
   "cell_type": "code",
   "execution_count": 93,
   "id": "c13bac56-802d-42ef-9fa9-85be9d38122c",
   "metadata": {},
   "outputs": [],
   "source": [
    "# Initialize\n",
    "\n",
    "import csv\n",
    "from collections import Counter\n",
    "import requests\n",
    "import pandas as pd\n",
    "from matplotlib_venn import venn3"
   ]
  },
  {
   "cell_type": "code",
   "execution_count": null,
   "id": "0e1cf4f2-4457-450a-b0e2-eafc1c942f69",
   "metadata": {},
   "outputs": [],
   "source": [
    "gene_counter = Counter()\n",
    "print(gene_counter)"
   ]
  },
  {
   "cell_type": "code",
   "execution_count": null,
   "id": "a9351fbe-91fb-41d7-9af2-2a1d56fdff91",
   "metadata": {},
   "outputs": [],
   "source": [
    "gene_counter = Counter()\n",
    "\n",
    "# Read through each row of the csv, index out only the list of overlapping genes, split by semicolon space and \n",
    "# add to a counter of genes. \n",
    "with open('gene_pathway_gene_symbols.csv', 'r') as file:\n",
    "    reader = csv.reader(file)\n",
    "    next(reader) # SKIP THAT HEADER!!!!!!!!\n",
    "    for row in reader:\n",
    "        items = row[0].split()\n",
    "        gene_counter.update(items)\n",
    "\n",
    "print(\"YESSSSSSSSSSSSSSSSSS\")"
   ]
  },
  {
   "cell_type": "code",
   "execution_count": null,
   "id": "380d4032-555b-4291-ac91-f3f11a0f8161",
   "metadata": {},
   "outputs": [],
   "source": [
    "sorted_gene_counter = Counter(dict(gene_counter.most_common()))"
   ]
  },
  {
   "cell_type": "code",
   "execution_count": null,
   "id": "57d6d9f7-0d07-44e3-a6ed-d5b403b1f399",
   "metadata": {},
   "outputs": [],
   "source": [
    "# Save genes to a txt file.\n",
    "\n",
    "with open('Gene_Counts.txt', 'w') as file:\n",
    "    for gene, count in sorted_gene_counter.items():\n",
    "        file.write(f\"{gene}: {count}\\n\")"
   ]
  },
  {
   "cell_type": "code",
   "execution_count": null,
   "id": "34c639bb-1198-44b8-8c8f-ac9622ee2613",
   "metadata": {},
   "outputs": [],
   "source": [
    "# read in dataframe of gene pathways and gene symbols\n",
    "gene_df = pd.read_csv('gene_pathway_gene_symbols.csv')\n",
    "gene_df.head()"
   ]
  },
  {
   "cell_type": "code",
   "execution_count": null,
   "id": "c24a58eb-d0db-4b96-b26f-4f71ed0957e1",
   "metadata": {},
   "outputs": [],
   "source": [
    "# make a dataframe of all rows that contain one of the top three \n",
    "top3_df = gene_df[gene_df['GENE_ID'].isin(top_three)]\n",
    "top3_df.head()"
   ]
  },
  {
   "cell_type": "markdown",
   "id": "ee66e8de-8e49-4171-8c22-64ca66b46990",
   "metadata": {},
   "source": [
    "### 5. Retrieve a set of the pathways the top 3 genes appear on."
   ]
  },
  {
   "cell_type": "code",
   "execution_count": 113,
   "id": "fd64ffb4-1a9e-4002-9cdd-a318e859c393",
   "metadata": {},
   "outputs": [
    {
     "data": {
      "text/plain": [
       "{'AGE-RAGE signaling pathway in diabetic complications - Homo sapiens (human)',\n",
       " 'AMPK signaling pathway - Homo sapiens (human)',\n",
       " 'Acute myeloid leukemia - Homo sapiens (human)',\n",
       " 'Adherens junction - Homo sapiens (human)',\n",
       " 'Adrenergic signaling in cardiomyocytes - Homo sapiens (human)',\n",
       " 'Alcoholism - Homo sapiens (human)',\n",
       " 'Aldosterone-regulated sodium reabsorption - Homo sapiens (human)',\n",
       " 'Alzheimer disease - Homo sapiens (human)',\n",
       " 'Amoebiasis - Homo sapiens (human)',\n",
       " 'Apelin signaling pathway - Homo sapiens (human)',\n",
       " 'Apoptosis - Homo sapiens (human)',\n",
       " 'Autophagy - animal - Homo sapiens (human)',\n",
       " 'Axon guidance - Homo sapiens (human)',\n",
       " 'B cell receptor signaling pathway - Homo sapiens (human)',\n",
       " 'Bacterial invasion of epithelial cells - Homo sapiens (human)',\n",
       " 'Bladder cancer - Homo sapiens (human)',\n",
       " 'Breast cancer - Homo sapiens (human)',\n",
       " 'C-type lectin receptor signaling pathway - Homo sapiens (human)',\n",
       " 'Carbohydrate digestion and absorption - Homo sapiens (human)',\n",
       " 'Cellular senescence - Homo sapiens (human)',\n",
       " 'Central carbon metabolism in cancer - Homo sapiens (human)',\n",
       " 'Chagas disease - Homo sapiens (human)',\n",
       " 'Chemical carcinogenesis - reactive oxygen species - Homo sapiens (human)',\n",
       " 'Chemical carcinogenesis - receptor activation - Homo sapiens (human)',\n",
       " 'Chemokine signaling pathway - Homo sapiens (human)',\n",
       " 'Choline metabolism in cancer - Homo sapiens (human)',\n",
       " 'Cholinergic synapse - Homo sapiens (human)',\n",
       " 'Chronic myeloid leukemia - Homo sapiens (human)',\n",
       " 'Circadian entrainment - Homo sapiens (human)',\n",
       " 'Colorectal cancer - Homo sapiens (human)',\n",
       " 'Coronavirus disease - COVID-19 - Homo sapiens (human)',\n",
       " 'Cushing syndrome - Homo sapiens (human)',\n",
       " 'Diabetic cardiomyopathy - Homo sapiens (human)',\n",
       " 'EGFR tyrosine kinase inhibitor resistance - Homo sapiens (human)',\n",
       " 'Efferocytosis - Homo sapiens (human)',\n",
       " 'Endocrine resistance - Homo sapiens (human)',\n",
       " 'Endometrial cancer - Homo sapiens (human)',\n",
       " 'Epstein-Barr virus infection - Homo sapiens (human)',\n",
       " 'ErbB signaling pathway - Homo sapiens (human)',\n",
       " 'Estrogen signaling pathway - Homo sapiens (human)',\n",
       " 'Fc epsilon RI signaling pathway - Homo sapiens (human)',\n",
       " 'Fc gamma R-mediated phagocytosis - Homo sapiens (human)',\n",
       " 'Fluid shear stress and atherosclerosis - Homo sapiens (human)',\n",
       " 'Focal adhesion - Homo sapiens (human)',\n",
       " 'FoxO signaling pathway - Homo sapiens (human)',\n",
       " 'Gap junction - Homo sapiens (human)',\n",
       " 'Gastric cancer - Homo sapiens (human)',\n",
       " 'Glioma - Homo sapiens (human)',\n",
       " 'Glutamatergic synapse - Homo sapiens (human)',\n",
       " 'GnRH secretion - Homo sapiens (human)',\n",
       " 'GnRH signaling pathway - Homo sapiens (human)',\n",
       " 'Growth hormone synthesis, secretion and action - Homo sapiens (human)',\n",
       " 'HIF-1 signaling pathway - Homo sapiens (human)',\n",
       " 'Hepatitis B - Homo sapiens (human)',\n",
       " 'Hepatitis C - Homo sapiens (human)',\n",
       " 'Hepatocellular carcinoma - Homo sapiens (human)',\n",
       " 'Herpes simplex virus 1 infection - Homo sapiens (human)',\n",
       " 'Human T-cell leukemia virus 1 infection - Homo sapiens (human)',\n",
       " 'Human cytomegalovirus infection - Homo sapiens (human)',\n",
       " 'Human immunodeficiency virus 1 infection - Homo sapiens (human)',\n",
       " 'Human papillomavirus infection - Homo sapiens (human)',\n",
       " 'IL-17 signaling pathway - Homo sapiens (human)',\n",
       " 'Inflammatory mediator regulation of TRP channels - Homo sapiens (human)',\n",
       " 'Influenza A - Homo sapiens (human)',\n",
       " 'Inositol phosphate metabolism - Homo sapiens (human)',\n",
       " 'Insulin resistance - Homo sapiens (human)',\n",
       " 'Insulin signaling pathway - Homo sapiens (human)',\n",
       " 'JAK-STAT signaling pathway - Homo sapiens (human)',\n",
       " 'Kaposi sarcoma-associated herpesvirus infection - Homo sapiens (human)',\n",
       " 'Leishmaniasis - Homo sapiens (human)',\n",
       " 'Leukocyte transendothelial migration - Homo sapiens (human)',\n",
       " 'Lipid and atherosclerosis - Homo sapiens (human)',\n",
       " 'Long-term depression - Homo sapiens (human)',\n",
       " 'Long-term potentiation - Homo sapiens (human)',\n",
       " 'Longevity regulating pathway - Homo sapiens (human)',\n",
       " 'Longevity regulating pathway - multiple species - Homo sapiens (human)',\n",
       " 'MAPK signaling pathway - Homo sapiens (human)',\n",
       " 'Measles - Homo sapiens (human)',\n",
       " 'Melanogenesis - Homo sapiens (human)',\n",
       " 'Melanoma - Homo sapiens (human)',\n",
       " 'Metabolic pathways - Homo sapiens (human)',\n",
       " 'MicroRNAs in cancer - Homo sapiens (human)',\n",
       " 'NOD-like receptor signaling pathway - Homo sapiens (human)',\n",
       " 'Natural killer cell mediated cytotoxicity - Homo sapiens (human)',\n",
       " 'Neurotrophin signaling pathway - Homo sapiens (human)',\n",
       " 'Neutrophil extracellular trap formation - Homo sapiens (human)',\n",
       " 'Non-alcoholic fatty liver disease - Homo sapiens (human)',\n",
       " 'Non-small cell lung cancer - Homo sapiens (human)',\n",
       " 'Oocyte meiosis - Homo sapiens (human)',\n",
       " 'Osteoclast differentiation - Homo sapiens (human)',\n",
       " 'Oxytocin signaling pathway - Homo sapiens (human)',\n",
       " 'PD-L1 expression and PD-1 checkpoint pathway in cancer - Homo sapiens (human)',\n",
       " 'PI3K-Akt signaling pathway - Homo sapiens (human)',\n",
       " 'Pancreatic cancer - Homo sapiens (human)',\n",
       " 'Parathyroid hormone synthesis, secretion and action - Homo sapiens (human)',\n",
       " 'Pathogenic Escherichia coli infection - Homo sapiens (human)',\n",
       " 'Pathways in cancer - Homo sapiens (human)',\n",
       " 'Pathways of neurodegeneration - multiple diseases - Homo sapiens (human)',\n",
       " 'Pertussis - Homo sapiens (human)',\n",
       " 'Phosphatidylinositol signaling system - Homo sapiens (human)',\n",
       " 'Phospholipase D signaling pathway - Homo sapiens (human)',\n",
       " 'Platelet activation - Homo sapiens (human)',\n",
       " 'Platinum drug resistance - Homo sapiens (human)',\n",
       " 'Prion disease - Homo sapiens (human)',\n",
       " 'Progesterone-mediated oocyte maturation - Homo sapiens (human)',\n",
       " 'Prolactin signaling pathway - Homo sapiens (human)',\n",
       " 'Prostate cancer - Homo sapiens (human)',\n",
       " 'Proteoglycans in cancer - Homo sapiens (human)',\n",
       " 'Rap1 signaling pathway - Homo sapiens (human)',\n",
       " 'Ras signaling pathway - Homo sapiens (human)',\n",
       " 'Regulation of actin cytoskeleton - Homo sapiens (human)',\n",
       " 'Regulation of lipolysis in adipocytes - Homo sapiens (human)',\n",
       " 'Relaxin signaling pathway - Homo sapiens (human)',\n",
       " 'Renal cell carcinoma - Homo sapiens (human)',\n",
       " 'Retrograde endocannabinoid signaling - Homo sapiens (human)',\n",
       " 'Salmonella infection - Homo sapiens (human)',\n",
       " 'Serotonergic synapse - Homo sapiens (human)',\n",
       " 'Shigellosis - Homo sapiens (human)',\n",
       " 'Signaling pathways regulating pluripotency of stem cells - Homo sapiens (human)',\n",
       " 'Small cell lung cancer - Homo sapiens (human)',\n",
       " 'Sphingolipid signaling pathway - Homo sapiens (human)',\n",
       " 'Spinocerebellar ataxia - Homo sapiens (human)',\n",
       " 'T cell receptor signaling pathway - Homo sapiens (human)',\n",
       " 'TGF-beta signaling pathway - Homo sapiens (human)',\n",
       " 'TNF signaling pathway - Homo sapiens (human)',\n",
       " 'Th1 and Th2 cell differentiation - Homo sapiens (human)',\n",
       " 'Th17 cell differentiation - Homo sapiens (human)',\n",
       " 'Thyroid cancer - Homo sapiens (human)',\n",
       " 'Thyroid hormone signaling pathway - Homo sapiens (human)',\n",
       " 'Toll-like receptor signaling pathway - Homo sapiens (human)',\n",
       " 'Toxoplasmosis - Homo sapiens (human)',\n",
       " 'Tuberculosis - Homo sapiens (human)',\n",
       " 'Type II diabetes mellitus - Homo sapiens (human)',\n",
       " 'VEGF signaling pathway - Homo sapiens (human)',\n",
       " 'Vascular smooth muscle contraction - Homo sapiens (human)',\n",
       " 'Viral carcinogenesis - Homo sapiens (human)',\n",
       " 'Yersinia infection - Homo sapiens (human)',\n",
       " 'cAMP signaling pathway - Homo sapiens (human)',\n",
       " 'cGMP-PKG signaling pathway - Homo sapiens (human)',\n",
       " 'mTOR signaling pathway - Homo sapiens (human)'}"
      ]
     },
     "execution_count": 113,
     "metadata": {},
     "output_type": "execute_result"
    }
   ],
   "source": [
    "# create list of all pathways that the top 3 genes appear on \n",
    "set(top3_df['PATHWAY_NAME'].unique().tolist())"
   ]
  },
  {
   "cell_type": "markdown",
   "id": "eeb586a2-cdf1-4940-8c82-1ef17bf25121",
   "metadata": {},
   "source": [
    "### 6. Compute and display a Venn diagram for number of overlapping pathways for the top 3 genes."
   ]
  },
  {
   "cell_type": "code",
   "execution_count": null,
   "id": "26bb3501-fe5a-4d4e-98e6-7197b4545f61",
   "metadata": {},
   "outputs": [],
   "source": [
    "# get top three genes from the list\n",
    "\n",
    "sorted_gene_counter2 = dict(gene_counter.most_common())\n",
    "top_three = list(sorted_gene_counter2.keys())[:3]\n",
    "top_three"
   ]
  },
  {
   "cell_type": "code",
   "execution_count": 95,
   "id": "271e98d9-8d05-493d-8bbb-c5a03d8af0bb",
   "metadata": {},
   "outputs": [],
   "source": [
    "# function that returns a set of pathways associated with a particular gene_id\n",
    "def pathway_setter(df, id):\n",
    "    paths = set(df.loc[df['GENE_ID'] == id, 'PATHWAY_NAME'])\n",
    "    return paths"
   ]
  },
  {
   "cell_type": "code",
   "execution_count": 97,
   "id": "5e782b8c-97a9-4d19-813b-f9265f34136e",
   "metadata": {},
   "outputs": [],
   "source": [
    "# get the sets \n",
    "hsa_5595 = pathway_setter(gene_df, 'hsa:5595')"
   ]
  },
  {
   "cell_type": "code",
   "execution_count": 99,
   "id": "2ee7dc18-3d28-47f5-9a7b-ddc6f70b6b60",
   "metadata": {},
   "outputs": [],
   "source": [
    "hsa_5594 = pathway_setter(gene_df, 'hsa:5594')"
   ]
  },
  {
   "cell_type": "code",
   "execution_count": 101,
   "id": "c38ecd09-56c2-4ce8-8be1-4934a3a54ae0",
   "metadata": {},
   "outputs": [],
   "source": [
    "hsa_5290 = pathway_setter(gene_df, 'hsa:5290')"
   ]
  },
  {
   "cell_type": "code",
   "execution_count": 103,
   "id": "39623796-810d-4e73-b1a2-d796e8e1d192",
   "metadata": {},
   "outputs": [
    {
     "data": {
      "text/plain": [
       "<matplotlib_venn._common.VennDiagram at 0x116f124c230>"
      ]
     },
     "execution_count": 103,
     "metadata": {},
     "output_type": "execute_result"
    },
    {
     "data": {
      "image/png": "[encoded data removed]",
      "text/plain": [
       "<Figure size 640x480 with 1 Axes>"
      ]
     },
     "metadata": {},
     "output_type": "display_data"
    }
   ],
   "source": [
    "venn3([hsa_5595, hsa_5594, hsa_5290], set_labels = top_three)"
   ]
  }
 ],
 "metadata": {
  "kernelspec": {
   "display_name": "Python 3 (ipykernel)",
   "language": "python",
   "name": "python3"
  },
  "language_info": {
   "codemirror_mode": {
    "name": "ipython",
    "version": 3
   },
   "file_extension": ".py",
   "mimetype": "text/x-python",
   "name": "python",
   "nbconvert_exporter": "python",
   "pygments_lexer": "ipython3",
   "version": "3.12.3"
  }
 },
 "nbformat": 4,
 "nbformat_minor": 5
}
