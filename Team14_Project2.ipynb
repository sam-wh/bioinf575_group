{
 "cells": [
  {
   "cell_type": "code",
   "execution_count": null,
   "id": "997af69b-1a65-4074-b43b-c552debdbbac",
   "metadata": {},
   "outputs": [],
   "source": []
  },
  {
   "cell_type": "markdown",
   "id": "8d7cb655-4a07-4e2f-b42b-282a69d5653c",
   "metadata": {},
   "source": [
    "# Answers for Questions"
   ]
  },
  {
   "cell_type": "markdown",
   "id": "3e6f7465-8af9-4bbd-a1aa-73a8ac4028c8",
   "metadata": {},
   "source": [
    "### Luxuan Wang's Answer"
   ]
  },
  {
   "cell_type": "markdown",
   "id": "7585054c-617e-41e1-a93c-85a0a6c6c572",
   "metadata": {},
   "source": [
    "1. What was your biggest challenge in this project?\n",
    "* The biggest challenge in this project was handling the nested loops to compute the overlapping genes between every 2 pathways. Due to the large size of the dataset, validating the code and ensuring its correctness required a significant amount of time. This made the debugging process challenging, as even small changes in the code could result in a long time to verify the results.\n",
    "2. What did you learn while working on this project?\n",
    "* While working on this project, I learned how to manipulate datasets using pandas, especially splitting and mapping data across multiple columns. At the same time, the nested loop I wrote to identify overlapping genes made me realize the importance of code efficiency when working with large datasets. Writing efficient and scalable code in data-intensive projects is really important since it benefits the running time. \n",
    "3. If you had more time on the project, what other question(s) would you like to answer?\n",
    "* I would like to answer the question: How do overlapping genes between biological pathways correlate with their functional relationships and disease associations?\n"
   ]
  },
  {
   "cell_type": "markdown",
   "id": "d86b9955-10e2-42d9-a6f5-a538622f3dd1",
   "metadata": {},
   "source": [
    "### Ileanexis Madera Cuevas's Answer"
   ]
  },
  {
   "cell_type": "markdown",
   "id": "d254084c-9fd2-4b75-9bd2-190ad2093fcd",
   "metadata": {},
   "source": [
    "1. What was your biggest challenge in this project?\n",
    "* The biggest challenge in this project was handling the dataset for overlapping genes between all pairs of pathways because of the high computational cost associated with comparing every possible pair of rows. \n",
    "2. What did you learn while working on this project?\n",
    "* I learned the importance of computational methods to manage large datasets efficiently, which require time and complex code but help analyze large datasets more efficiently. I also learned the importance of preprocessing data to enable faster computations. \n",
    "3. If you had more time on the project, what other question(s) would you like to answer?\n",
    "* What biological functions or pathways are most commonly shared between different pathways? To identify critical genes that might be involved in multiple biological processes. \n"
   ]
  },
  {
   "cell_type": "markdown",
   "id": "c4218d4a-4baf-4701-94d5-8d0a7971d4b9",
   "metadata": {},
   "source": [
    "### Samantha Wheeler's Answer"
   ]
  },
  {
   "cell_type": "markdown",
   "id": "15279fc8-3c73-4b9f-9291-beacb45a28d6",
   "metadata": {},
   "source": [
    "1. What was your biggest challenge in this project?\n",
    "My biggest challenge on this project was figuring out how to subset datasets with pandas, as well as how to get my data into a form that could be graphed. \n",
    "\n",
    "2. What did you learn while working on this project?\n",
    "I learned how to make venn diagrams with matplotlib and in a broader sense, how to take code that I was given by other people and interpret it so that I could work on it. I also learned how to use git and github while working with a group of people rather than just using it to keep my own files under version control.\n",
    "\n",
    "3. If you had more time on the project, what other question(s) would you like to answer?\n",
    "If I had more time on this project, I would like to look deeper into the list of top genes with most pathway overlap and see what conclusions can be drawn from which genes are overlapping with which other genes."
   ]
  },
  {
   "cell_type": "markdown",
   "id": "1e0ba759-bb25-4c66-bdca-2bfbe5d041fc",
   "metadata": {},
   "source": [
    "### Jacob Horn's Answer"
   ]
  },
  {
   "cell_type": "markdown",
   "id": "8e2e0e5a-02fd-4081-95ab-d2dc7fe256ab",
   "metadata": {},
   "source": [
    "1. What was your biggest challenge in this project?\n",
    "The biggest challenge in this project was reformatting the data in order to answer the question that was posed. I went through several iterations of reformatting the data before it was compatible with what I wanted to do with it.\n",
    "2. What did you learn while working on this project?\n",
    "I was surprised by the amount of overlap from the different pathways on the KEGG database. There were many genes that were on 100+ different pathways.\n",
    "3. If you had more time on the project, what other question(s) would you like to answer?\n",
    "If I had more time, I would like to make a web of all the genes and pathways to visualize the connections between genes on the KEGG database. It would be interesting to visualize this as a way of displaying the complex nature of gene interactions and pathways. \n"
   ]
  },
  {
   "cell_type": "code",
   "execution_count": null,
   "id": "8305f2b9-33c1-4e2b-86f6-b7fbeda67678",
   "metadata": {},
   "outputs": [],
   "source": [
    "import pandas as pd \n",
    "import csv\n",
    "from collections import Counter\n",
    "import requests\n",
    "from matplotlib_venn import venn3\n",
    "from matplotlib_venn import venn2"
   ]
  },
  {
   "cell_type": "markdown",
   "id": "f9cb1b8e-ba06-4c95-98f2-39704ff0c51e",
   "metadata": {},
   "source": [
    "# Preparation"
   ]
  },
  {
   "cell_type": "code",
   "execution_count": null,
   "id": "31ed9ee5-637b-4241-9827-5f266c86d24a",
   "metadata": {},
   "outputs": [],
   "source": [
    "df_pathway=pd.read_csv(\"pathway.txt\", sep=\"\\t\", header=None)\n",
    "df_pathway.columns=[\"PATHWAY_ID\",\"PATHWAY_NAME\"]\n",
    "df_gene=pd.read_csv(\"gene.txt\", sep=\"\\t\", header=None)\n",
    "df_gene.columns=[\"GENE_ID\", \"TYPE\", \"TYPE_DESCRIPTION\" ,\"GENE_INFO\"]\n",
    "df_gene_pathway=pd.read_csv(\"gen_pathway.txt\", sep=\"\\t\", header=None)\n",
    "df_gene_pathway.columns=[\"GENE_ID\" , \"PATHWAY_ID\"]"
   ]
  },
  {
   "cell_type": "code",
   "execution_count": null,
   "id": "0390c64f-90f1-4d4d-abc5-bd28cd9862dd",
   "metadata": {},
   "outputs": [],
   "source": [
    "df_gene_filter=df_gene.drop(columns=[\"TYPE\",\"TYPE_DESCRIPTION\"])"
   ]
  },
  {
   "cell_type": "code",
   "execution_count": null,
   "id": "a44911f6-3468-4524-9fdc-2924be6065b0",
   "metadata": {},
   "outputs": [],
   "source": [
    "df_gene_filter_split=df_gene_filter[\"GENE_INFO\"].str.split(';',expand=True)\n",
    "df_gene_filter_split_new = pd.concat([df_gene_filter.drop(columns=[\"GENE_INFO\"]), df_gene_filter_split], axis=1)\n",
    "df_gene_filter_split_new.columns=[\"GENE_ID\",\"GENE_SYMBOL\",\"GENE_NAME\"]\n",
    "df_gene_filter_split_new"
   ]
  },
  {
   "cell_type": "markdown",
   "id": "0d2e115a-e41c-422f-8d99-d592662e239c",
   "metadata": {},
   "source": [
    "# Merge"
   ]
  },
  {
   "cell_type": "code",
   "execution_count": null,
   "id": "da6d1436-faf8-4c39-a45a-ba3cdfac27c7",
   "metadata": {},
   "outputs": [],
   "source": [
    "merge_pathway=df_gene_pathway.merge(df_pathway,how=\"left\", on=\"PATHWAY_ID\")\n",
    "merge_pathway_gene=merge_pathway.merge(df_gene_filter_split_new, how=\"left\", on=\"GENE_ID\")\n",
    "merge_pathway_gene\n",
    "merge_pathway_gene.to_csv('gene_pathway_gene_symbols.csv', index=False)"
   ]
  },
  {
   "cell_type": "markdown",
   "id": "5a759be6-8af4-4640-918a-dfac3f566ab7",
   "metadata": {},
   "source": [
    "# Overlapping"
   ]
  },
  {
   "cell_type": "code",
   "execution_count": null,
   "id": "6e6d3069-866b-4c67-9a20-e4f3fbd37c68",
   "metadata": {},
   "outputs": [],
   "source": [
    "overlap_all=list()\n",
    "for i in range(merge_pathway_gene.shape[0]-1):\n",
    "    for x in range(i+1,merge_pathway_gene.shape[0]):\n",
    "        PATHWAY_ID1=merge_pathway_gene.loc[i,\"PATHWAY_ID\"]\n",
    "        PATHWAY_NAME1=merge_pathway_gene.loc[i,\"PATHWAY_NAME\"]\n",
    "        PATHWAY_ID2=merge_pathway_gene.loc[x,\"PATHWAY_ID\"]\n",
    "        PATHWAY_NAME2=merge_pathway_gene.loc[x,\"PATHWAY_NAME\"]\n",
    "        overlap_list=list(set(merge_pathway_gene.loc[i,\"GENE_SYMBOL\"].split(', ')) & set(merge_pathway_gene.loc[x, \"GENE_SYMBOL\"].split(', ')))\n",
    "        if overlap_list:\n",
    "            overlap_list_str='; '.join(overlap_list)\n",
    "            overlap_all.append([ PATHWAY_ID1,PATHWAY_NAME1, PATHWAY_ID2,PATHWAY_NAME2,len(overlap_list),overlap_list_str])\n",
    "df_overlap_all=pd.DataFrame(overlap_all)\n",
    "df_overlap_all.columns=[\"PATHWAY_ID1\", \"PATHWAY_NAME1\", \"PATHWAY_ID2\", \"PATHWAY_NAME2\", \"NUMBER_OF_OVERLAPPING_GENES\", \"LIST_OF_OVERLAPPING_GENES\"]\n"
   ]
  },
  {
   "cell_type": "code",
   "execution_count": null,
   "id": "997c9799-5745-4455-a95b-93ccd1438377",
   "metadata": {},
   "outputs": [],
   "source": [
    "df_overlap_all"
   ]
  },
  {
   "cell_type": "markdown",
   "id": "cfa4c330-fcd2-47aa-820e-7686f6f3cf76",
   "metadata": {},
   "source": [
    "# Save the results"
   ]
  },
  {
   "cell_type": "code",
   "execution_count": null,
   "id": "84c66a9c-06ee-4586-b5ef-df6b14f088e1",
   "metadata": {},
   "outputs": [],
   "source": [
    "c1=df_overlap_all[\"PATHWAY_ID1\"] != df_overlap_all[\"PATHWAY_ID2\"]\n",
    "df_overlap_all_final=df_overlap_all[c1].sort_values(by=\"NUMBER_OF_OVERLAPPING_GENES\", ascending=False)\n",
    "df_overlap_all_final.to_csv(\"KEGG_crosstalk.csv\", index=False)"
   ]
  },
  {
   "cell_type": "code",
   "execution_count": null,
   "id": "f44bc11c-b690-43cb-8a7d-8664ece26b97",
   "metadata": {},
   "outputs": [],
   "source": [
    "gene_counter = Counter()\n",
    "print(gene_counter)"
   ]
  },
  {
   "cell_type": "code",
   "execution_count": null,
   "id": "47e0b565-1016-4bc3-b1ef-a1cd26317f66",
   "metadata": {},
   "outputs": [],
   "source": [
    "gene_counter = Counter()\n",
    "filename = 'gene_pathway_gene_symbols.csv'\n",
    "\n",
    "# Read through each row of the csv, index out only the list of overlapping genes, split by semicolon space and \n",
    "# add to a counter of genes. \n",
    "with open(filename, 'r') as file:\n",
    "    reader = csv.reader(file)\n",
    "    next(reader) # SKIP THAT HEADER!!!!!!!!\n",
    "    for row in reader:\n",
    "        items = row[0].split()\n",
    "        gene_counter.update(items)\n",
    "\n",
    "print(\"YESSSSSSSSSSSSSSSSSS\")"
   ]
  },
  {
   "cell_type": "code",
   "execution_count": null,
   "id": "f581314a-07cc-4f65-9f3e-f98b512bc095",
   "metadata": {},
   "outputs": [],
   "source": [
    "sorted_gene_counter = Counter(dict(gene_counter.most_common()))"
   ]
  },
  {
   "cell_type": "code",
   "execution_count": null,
   "id": "67533deb-50b8-440f-a012-22ed69db3510",
   "metadata": {},
   "outputs": [],
   "source": [
    "# Save genes to a txt file.\n",
    "\n",
    "with open('Gene_Counts.txt', 'w') as file:\n",
    "    for gene, count in sorted_gene_counter.items():\n",
    "        file.write(f\"{gene}: {count}\\n\")"
   ]
  },
  {
   "cell_type": "code",
   "execution_count": null,
   "id": "614f0208-9e09-464c-afdc-edc3956cae98",
   "metadata": {},
   "outputs": [],
   "source": [
    "# read in dataframe of gene pathways and gene symbols\n",
    "gene_df = pd.read_csv('gene_pathway_gene_symbols.csv')\n",
    "gene_df.head()"
   ]
  },
  {
   "cell_type": "code",
   "execution_count": null,
   "id": "dfac95bf-d6ac-425c-87af-5847837c6cc6",
   "metadata": {},
   "outputs": [],
   "source": [
    "sorted_gene_counter2 = dict(gene_counter.most_common())\n",
    "top_three = list(sorted_gene_counter2.keys())[:3]"
   ]
  },
  {
   "cell_type": "code",
   "execution_count": null,
   "id": "66d810f4-c8d8-49d0-9bc0-c28c9a660441",
   "metadata": {},
   "outputs": [],
   "source": [
    "# make a dataframe of all rows that contain one of the top three \n",
    "top3_df = gene_df[gene_df['GENE_ID'].isin(top_three)]\n",
    "top3_df.head()"
   ]
  },
  {
   "cell_type": "markdown",
   "id": "a1f4e260-e436-4d60-9524-555519b69d72",
   "metadata": {},
   "source": [
    "### 5. Retrieve a set of the pathways the top 3 genes appear on."
   ]
  },
  {
   "cell_type": "code",
   "execution_count": null,
   "id": "0f32c46c-1749-48e6-bd2d-00149bd8afbf",
   "metadata": {},
   "outputs": [],
   "source": [
    "# create list of all pathways that the top 3 genes appear on \n",
    "set(top3_df['PATHWAY_NAME'].unique().tolist())"
   ]
  },
  {
   "cell_type": "markdown",
   "id": "aa53ad3b-7aa8-47e8-a2f7-71edfa1fffbd",
   "metadata": {},
   "source": [
    "### 6. Compute and display a Venn diagram for number of overlapping pathways for the top 3 genes."
   ]
  },
  {
   "cell_type": "code",
   "execution_count": null,
   "id": "87858096-d14d-48fb-955c-8b6b982a402e",
   "metadata": {},
   "outputs": [],
   "source": [
    "# get top three genes from the list\n",
    "\n",
    "sorted_gene_counter2 = dict(gene_counter.most_common())\n",
    "top_three = list(sorted_gene_counter2.keys())[:3]\n",
    "top_three"
   ]
  },
  {
   "cell_type": "code",
   "execution_count": null,
   "id": "ac347dc1-a66c-4b71-b9e6-ea47606b72c8",
   "metadata": {},
   "outputs": [],
   "source": [
    "# function that returns a set of pathways associated with a particular gene_id\n",
    "def pathway_setter(df, id):\n",
    "    paths = set(df.loc[df['GENE_ID'] == id, 'PATHWAY_NAME'])\n",
    "    return paths"
   ]
  },
  {
   "cell_type": "code",
   "execution_count": null,
   "id": "9ef58c81-c1f6-4e45-af07-6bd4355a78f3",
   "metadata": {},
   "outputs": [],
   "source": [
    "# get the sets \n",
    "hsa_5595 = pathway_setter(gene_df, 'hsa:5595')"
   ]
  },
  {
   "cell_type": "code",
   "execution_count": null,
   "id": "9c611770-ee49-459e-af26-f96977586e71",
   "metadata": {},
   "outputs": [],
   "source": [
    "hsa_5594 = pathway_setter(gene_df, 'hsa:5594')"
   ]
  },
  {
   "cell_type": "code",
   "execution_count": null,
   "id": "5cc0ab08-28b2-4202-883e-4cfeb5a0823f",
   "metadata": {},
   "outputs": [],
   "source": [
    "hsa_5290 = pathway_setter(gene_df, 'hsa:5290')"
   ]
  },
  {
   "cell_type": "code",
   "execution_count": null,
   "id": "73e023f7-d0b6-4115-b2b6-168bb9feee53",
   "metadata": {},
   "outputs": [],
   "source": [
    "venn3([hsa_5595, hsa_5594, hsa_5290], set_labels = top_three)"
   ]
  },
  {
   "cell_type": "markdown",
   "id": "e95a0f21-e366-42b9-9b84-66b4070df8bc",
   "metadata": {},
   "source": [
    "# Features"
   ]
  },
  {
   "cell_type": "markdown",
   "id": "5ccf10a2-dbb9-443d-8267-06923a301e2e",
   "metadata": {},
   "source": [
    "### Samantha Wheeler"
   ]
  },
  {
   "cell_type": "markdown",
   "id": "b0076bf9-041a-4161-bda4-b9ba077e898e",
   "metadata": {},
   "source": [
    "### Small GTPase pathway interactions in cancer\n",
    "[Small GTPases](https://en.wikipedia.org/wiki/Small_GTPase) are vital cellular signaling molecules. There are over 100 small GTPases across five subfamilies. The [Ras](https://en.wikipedia.org/wiki/Ras_GTPase) family is the best known and best-studied in the context of cancer proliferation; however, dysregulation of other small GTPases is known to be involved in carcinogenesis, as well as other diseases. Small GTPase signaling pathways are highly interconnected and understanding the crosstalk between them is a highly biologically relevant question. This feature allows the comparison and visualization of KEGG pathways between some of the most commonly studied small GTPases. "
   ]
  },
  {
   "cell_type": "code",
   "execution_count": null,
   "id": "935edf3c-d9cc-4900-9eb6-989cc9d68303",
   "metadata": {},
   "outputs": [],
   "source": [
    "# dictionary of most common small GTPases associated with disease pathogenesis in general and cancer in particular\n",
    "# for further reading see https://www.mdpi.com/2072-6694/13/7/1500\n",
    "gtpase_dict = {'kras': 'hsa:4893',\n",
    "               'rhoa': 'hsa:387',\n",
    "               'arf1': 'hsa:375',\n",
    "               'rab1a': 'hsa:5861',\n",
    "               'ran': 'hsa:5901'\n",
    "              }"
   ]
  },
  {
   "cell_type": "code",
   "execution_count": null,
   "id": "43e306d0-578e-4259-9777-8dd63f269c71",
   "metadata": {},
   "outputs": [],
   "source": [
    "# read in dataframe of gene symbols with pathways\n",
    "gene_df = pd.read_csv(\"gene_pathway_gene_symbols.csv\")"
   ]
  },
  {
   "cell_type": "markdown",
   "id": "8c4d09c6-2aa2-4ec5-a065-2ac1fda437fd",
   "metadata": {},
   "source": [
    "### Part one: create dictionary of small GTPases and their associated kegg pathways.\n",
    "This function takes the gene_pathway_gene_symbols csv and uses it to create a dictionary. This function is generalizable and could also be used to generate dictionaries of other disease genes and their assicated KEGG pathways."
   ]
  },
  {
   "cell_type": "code",
   "execution_count": null,
   "id": "bbd70459-9b7d-4644-bad3-dfae694a56a7",
   "metadata": {},
   "outputs": [],
   "source": [
    "# function that returns a set of pathways associated with a particular gene_id\n",
    "def pathway_setter_deluxe(fdict, df):#, id):\n",
    "    key_list = fdict.keys()\n",
    "    val_list = []\n",
    "    for value in fdict.values():\n",
    "        val_list.append(set(gene_df.loc[gene_df['GENE_ID'] == value, 'PATHWAY_NAME']))\n",
    "    pathway_dict = dict(zip(key_list, val_list))\n",
    "    return pathway_dict\n"
   ]
  },
  {
   "cell_type": "code",
   "execution_count": null,
   "id": "e8b2f6ed-c69f-4b7c-a5d2-1d44ba986b97",
   "metadata": {},
   "outputs": [],
   "source": [
    "gtpase_pathways = pathway_setter_deluxe(gtpase_dict, gene_df)\n",
    "gtpase_pathways"
   ]
  },
  {
   "cell_type": "markdown",
   "id": "8b9c33d7-7de8-4305-8309-414025527d6a",
   "metadata": {},
   "source": [
    "### Comparison and visualization of KEGG pathways\n",
    "This function allows the comparison of KEGG pathways and puts out a venn diagram of how many pathways they have in common."
   ]
  },
  {
   "cell_type": "code",
   "execution_count": null,
   "id": "6439918b-bc0a-43d7-8f96-1b10f33665ed",
   "metadata": {},
   "outputs": [],
   "source": [
    "def pathway_intersections(fdict, prot1, prot2):\n",
    "    protein1 = fdict[prot1]\n",
    "    protein2 = fdict[prot2]\n",
    "    intersect = protein1.intersection(protein2)\n",
    "    labels = [prot1, prot2]\n",
    "    venn2([protein1, protein2], set_labels = labels)\n",
    "    return intersect"
   ]
  },
  {
   "cell_type": "code",
   "execution_count": null,
   "id": "7b3ec5da-e5a0-471c-8230-e7ca24839e22",
   "metadata": {
    "scrolled": true
   },
   "outputs": [],
   "source": [
    "# some examples of the function in action\n",
    "pathway_intersections(gtpase_pathways, 'rhoa', 'kras')"
   ]
  },
  {
   "cell_type": "code",
   "execution_count": null,
   "id": "21bd3302-b2ea-48dc-b052-22710b50aa38",
   "metadata": {},
   "outputs": [],
   "source": [
    "pathway_intersections(gtpase_pathways, 'ran', 'rhoa')"
   ]
  },
  {
   "cell_type": "code",
   "execution_count": null,
   "id": "a6226ac5-fb8f-42bb-afec-aafad87bfff5",
   "metadata": {},
   "outputs": [],
   "source": [
    "pathway_intersections(gtpase_pathways, 'rab1a', 'arf1')"
   ]
  },
  {
   "cell_type": "code",
   "execution_count": null,
   "id": "9413b45b-b6d8-44dc-8c75-04dbfeb889f0",
   "metadata": {},
   "outputs": [],
   "source": [
    "pathway_intersections(gtpase_pathways, 'kras', 'rab1a')"
   ]
  },
  {
   "cell_type": "markdown",
   "id": "bcc2cccd-696c-421c-8a68-fac531a0da95",
   "metadata": {},
   "source": [
    "### Jacob Horn"
   ]
  },
  {
   "cell_type": "markdown",
   "id": "39ad98fb-c3ba-4393-959a-e0e747847eb4",
   "metadata": {},
   "source": [
    "Do the top genes in appearances on different pathways taper off dramatically? For example, do we see that the first ten genes appear on many pathways (100+) and then the rest of the genes appear on only a few pathways (<10)? Or do we see a gradual taper that starts at the 100+ range and slowly goes down to genes that only appear on a few pathways? I will make several plots to visualize what this decrease in gene count looks like in order to address how the number of genes decreases in pathway crossover. First I will look at the top 50 genes:"
   ]
  },
  {
   "cell_type": "code",
   "execution_count": null,
   "id": "711a6538-433e-4b56-a070-0f5ad03ac1cb",
   "metadata": {},
   "outputs": [],
   "source": [
    "\n",
    "# initialize\n",
    "import pandas as pd\n",
    "import matplotlib.pyplot as plt\n",
    "\n",
    "# reading in data\n",
    "# adjust separator and parse logic\n",
    "data = pd.read_csv('correct_Gene_Counts.txt', sep=':', header=None, names=['Gene', 'Dummy', 'Count'])\n",
    "\n",
    "# combine first two parts gene name, make 'Dummy' string\n",
    "data['Gene'] = data['Gene'] + ':' + data['Dummy'].astype(str)\n",
    "data = data[['Gene', 'Count']]\n",
    "\n",
    "# make 'Count' numeric\n",
    "data['Count'] = pd.to_numeric(data['Count'], errors='coerce')\n",
    "\n",
    "# sorting counts, descending order\n",
    "data_sorted = data.sort_values(by='Count', ascending=False)\n",
    "\n",
    "# selecting top 50 genes\n",
    "top_50 = data_sorted.head(50)\n",
    "\n",
    "# plot bar graph\n",
    "plt.figure(figsize=(15, 8))\n",
    "plt.bar(top_50['Gene'], top_50['Count'], color='skyblue')\n",
    "plt.xticks(rotation=90, fontsize=8)\n",
    "plt.xlabel('Gene')\n",
    "plt.ylabel('Count of Pathways Appeared On')\n",
    "plt.title('Top 50 Genes by Count')\n",
    "plt.tight_layout()\n",
    "\n",
    "# show plot\n",
    "plt.show()\n"
   ]
  },
  {
   "cell_type": "markdown",
   "id": "04633958-cb96-49c5-bd89-0af28927a5be",
   "metadata": {},
   "source": [
    "It appears that this is very gradual descent in pathways appeared on. Let's examine what this looks like in the top 200 genes."
   ]
  },
  {
   "cell_type": "code",
   "execution_count": null,
   "id": "71c213d3-ca42-4bb9-8a40-68f49ea90324",
   "metadata": {},
   "outputs": [],
   "source": [
    "# initialize\n",
    "import pandas as pd\n",
    "import matplotlib.pyplot as plt\n",
    "\n",
    "# reading in data\n",
    "# adjust separator and parse logic\n",
    "data = pd.read_csv('correct_Gene_Counts.txt', sep=':', header=None, names=['Gene', 'Dummy', 'Count'])\n",
    "\n",
    "# combine first two parts of the gene name, make 'Dummy' string\n",
    "data['Gene'] = data['Gene'] + ':' + data['Dummy'].astype(str)\n",
    "data = data[['Gene', 'Count']]\n",
    "\n",
    "# make 'Count' numeric\n",
    "data['Count'] = pd.to_numeric(data['Count'], errors='coerce')\n",
    "\n",
    "# sorting counts in descending order\n",
    "data_sorted = data.sort_values(by='Count', ascending=False)\n",
    "\n",
    "# selecting top 200 genes, instead of 50 in this case.\n",
    "top_200 = data_sorted.head(200)\n",
    "\n",
    "# plot bar graph\n",
    "plt.figure(figsize=(20, 10))\n",
    "plt.bar(top_200['Gene'], top_200['Count'], color='skyblue')\n",
    "plt.xticks(rotation=90, fontsize=6)  # Adjust font size to fit more labels\n",
    "plt.xlabel('Gene')\n",
    "plt.ylabel('Count of Pathways Appeared On')\n",
    "plt.title('Top 200 Genes by Count')\n",
    "plt.tight_layout()\n",
    "\n",
    "# show plot\n",
    "plt.show()\n"
   ]
  },
  {
   "cell_type": "markdown",
   "id": "55dadcf3-8008-4a51-b8d3-bacce3a46a9e",
   "metadata": {},
   "source": [
    "Again, this appears to be a very slow taper. "
   ]
  },
  {
   "cell_type": "markdown",
   "id": "57e9e2ed-2682-4745-ae6d-3d02fb436db6",
   "metadata": {},
   "source": [
    "### Final Thoughts:\n",
    "\n",
    "The number of pathways of the top genes slowly decreases. Even genes at rank ~200 are on 20+ pathways. It is evident that it is not a large dropoff in gene count, rather a gradual decrease in the amount of pathways the genes appear on. \n",
    "\n"
   ]
  },
  {
   "cell_type": "markdown",
   "id": "fe974518-3a16-4216-9074-dcecd3f701e6",
   "metadata": {},
   "source": [
    "### Luxuan Wang"
   ]
  },
  {
   "cell_type": "markdown",
   "id": "8614e7e2-99a7-4228-ab2f-da78b259059c",
   "metadata": {},
   "source": [
    "My feature addresses the follwing question:  \n",
    "What is the distribution of gene counts across KEGG pathways?  \n",
    "By analyzing the number of genes associated with each pathway, it help us understand overall structure and complexity of the KEGG pathway and indentify the core pathways that may play important roles in biological systems."
   ]
  },
  {
   "cell_type": "code",
   "execution_count": null,
   "id": "f83dd4d4-9ad9-4063-a84c-093cd9941d0b",
   "metadata": {},
   "outputs": [],
   "source": [
    "import matplotlib.pyplot as plt"
   ]
  },
  {
   "cell_type": "markdown",
   "id": "785f0176-7b3c-4bdc-9ef9-db703ca1b593",
   "metadata": {},
   "source": [
    "### Count the number of genes associated with each pathway"
   ]
  },
  {
   "cell_type": "markdown",
   "id": "46ddcc19-24c6-4c87-9aac-ddbb36e72ef5",
   "metadata": {},
   "source": [
    "By defining the count_genes_per_pathway function, we can group genes associated with the same pathway and calculate the number of genes within each pathway."
   ]
  },
  {
   "cell_type": "code",
   "execution_count": null,
   "id": "da4203ff-194e-4ba0-9c77-2009f3facf72",
   "metadata": {},
   "outputs": [],
   "source": [
    "gene_pathway_df = pd.read_csv(\"./gene_pathway_gene_symbols.csv\")"
   ]
  },
  {
   "cell_type": "code",
   "execution_count": null,
   "id": "6dbf60ef-21d2-4e50-a1dd-e772fd841e89",
   "metadata": {},
   "outputs": [],
   "source": [
    "def count_genes_per_pathway(gene_pathway_df):\n",
    "    pathway_counts = gene_pathway_df.groupby('PATHWAY_NAME')['GENE_ID'].count()\n",
    "    pathway_counts = pathway_counts.sort_values(ascending=False).reset_index()\n",
    "    pathway_counts.columns = ['Pathway', 'Gene_Count']\n",
    "    return pathway_counts\n",
    "\n",
    "gene_counts_df = count_genes_per_pathway(gene_pathway_df)"
   ]
  },
  {
   "cell_type": "code",
   "execution_count": null,
   "id": "e4bbd3f6-70a3-40b8-9580-9c421335579b",
   "metadata": {},
   "outputs": [],
   "source": [
    "gene_counts_df"
   ]
  },
  {
   "cell_type": "markdown",
   "id": "c267111e-c5b8-4eab-ac8f-456cdee9893b",
   "metadata": {},
   "source": [
    "### Plot the distribution of gene counts across pathways"
   ]
  },
  {
   "cell_type": "markdown",
   "id": "59fdf11f-37e5-4f2e-81d9-7f8c5b9b7182",
   "metadata": {},
   "source": [
    "Here, we visualize the distribution of gene counts across pathways by generating a histogram."
   ]
  },
  {
   "cell_type": "code",
   "execution_count": null,
   "id": "66427ba4-4775-4969-ab1f-409eef04df47",
   "metadata": {},
   "outputs": [],
   "source": [
    "def plot_gene_count_distribution(gene_counts_df):\n",
    "    plt.figure(figsize=(10, 8))\n",
    "    plt.hist(gene_counts_df['Gene_Count'], bins=40, color='green',edgecolor='black')\n",
    "    plt.xlabel('Number of Genes per Pathway')\n",
    "    plt.ylabel('Frequency')\n",
    "    plt.title('Distribution of Gene Counts Across KEGG Pathways')\n",
    "    plt.xticks(range(0, int(plt.gca().get_xlim()[1]) + 1, 100))\n",
    "    plt.yticks(range(0, int(plt.gca().get_ylim()[1]) + 1, 10))\n",
    "    plt.show()\n",
    "\n",
    "# Plot the distribution of gene counts\n",
    "plot_gene_count_distribution(gene_counts_df)"
   ]
  },
  {
   "cell_type": "markdown",
   "id": "1962e087-3fde-4142-98f4-333624cddd01",
   "metadata": {},
   "source": [
    "### Analyze the distribution pattern of gene counts across pathways"
   ]
  },
  {
   "cell_type": "markdown",
   "id": "6f0cdd48-e81c-44b1-88e4-42d69513fc4b",
   "metadata": {},
   "source": [
    "Finally, we provide a numerical analysis of the distribution, calculating the maximum, minimum, median, and mean values to quantitatively characterize the pattern of gene counts across pathways."
   ]
  },
  {
   "cell_type": "code",
   "execution_count": null,
   "id": "5653791b-61c1-4e17-b66f-a2c66a3241b0",
   "metadata": {},
   "outputs": [],
   "source": [
    "def analyze_distribution(gene_counts_df):\n",
    "    mean_count = gene_counts_df['Gene_Count'].mean()\n",
    "    median_count = gene_counts_df['Gene_Count'].median()\n",
    "    max_count = gene_counts_df['Gene_Count'].max()\n",
    "    min_count = gene_counts_df['Gene_Count'].min()\n",
    "    return {\n",
    "        \"Mean\": mean_count,\n",
    "        \"Median\": median_count,\n",
    "        \"Max\": max_count,\n",
    "        \"Min\": min_count\n",
    "    }\n",
    "\n",
    "distribution_summary = analyze_distribution(gene_counts_df)\n",
    "for key, value in distribution_summary.items():\n",
    "    print(f\"{key}: {value}\")"
   ]
  },
  {
   "cell_type": "markdown",
   "id": "b95fad4a-f671-46c9-a5a5-e53038d38976",
   "metadata": {},
   "source": [
    "### Results Interpretation"
   ]
  },
  {
   "cell_type": "markdown",
   "id": "e2a5383f-4ec9-454b-8ebc-b437a09a0086",
   "metadata": {},
   "source": [
    "From the figure, we can observe a long-tail pattern in the distribution of gene counts across KEGG pathways. Most pathways have relatively few genes, with the median pathway containing 78 genes. However, a small subset of pathways, such as the largest one with 1563 genes, stand out as outliers. These pathways are likely involved in highly complex and integrative biological processes, such as major metabolic or signaling networks. So, further we should investigate these gene-rich pathways to get insght in their biological roles and regulatory mechanisms."
   ]
  },
  {
   "cell_type": "markdown",
   "id": "7cb3b1b6-e434-417b-892f-e2a49c2a369c",
   "metadata": {},
   "source": [
    "### Ileanexis Madera Cuevas"
   ]
  },
  {
   "cell_type": "markdown",
   "id": "0fc10ffc-c5fd-4091-9376-331053631c03",
   "metadata": {},
   "source": [
    "#### This heatmap will visualize the number of overlapping genes between pathway 1 and pathway 2 of the top 500 and all the datasets. The color intensity indicates a higher number of overlapping genes. This visualization is important because it helps us identify pathways that share a significant number of genes, thereby highlighting potential biological interactions and the functional relationships between these pathways."
   ]
  },
  {
   "cell_type": "code",
   "execution_count": null,
   "id": "91e140a4-2c0c-4ee5-9b04-bac2e4c1ce5a",
   "metadata": {},
   "outputs": [],
   "source": [
    "import pandas as pd\n",
    "import seaborn as sns\n",
    "import matplotlib.pyplot as plt"
   ]
  },
  {
   "cell_type": "code",
   "execution_count": null,
   "id": "a746126f-e04b-46ac-ac99-af11fcdc15ae",
   "metadata": {},
   "outputs": [],
   "source": [
    "# Load the data\n",
    "df_overlap_all = pd.read_csv(\"KEGG_crosstalk.csv\")\n",
    "print(df_overlap_all.columns)"
   ]
  },
  {
   "cell_type": "code",
   "execution_count": null,
   "id": "b2d5ec8b-bc61-4d90-8898-7d286cadb27c",
   "metadata": {},
   "outputs": [],
   "source": [
    "# Select the top 500 rows\n",
    "df_top_500 = df_overlap_all.head(500)\n",
    "print(df_top_500.head())\n",
    "\n",
    "heatmap_data = df_top_500.pivot_table(index='PATHWAY_ID1', columns='PATHWAY_ID2', values='NUMBER_OF_OVERLAPPING_GENES', fill_value=0)\n",
    "\n",
    "plt.figure(figsize=(14, 10))\n",
    "sns.heatmap(heatmap_data, cmap=\"YlGnBu\")\n",
    "plt.title('Heatmap of Overlapping Genes between Pathways (Top 500 Rows)')\n",
    "plt.show()"
   ]
  },
  {
   "cell_type": "code",
   "execution_count": null,
   "id": "0e57a324-d35c-4f4c-a87c-564e75aa7faf",
   "metadata": {},
   "outputs": [],
   "source": [
    "import pandas as pd\n",
    "import seaborn as sns\n",
    "import matplotlib.pyplot as plt\n",
    "\n",
    "heatmap_data = df_overlap_all.pivot_table(index='PATHWAY_ID1', columns='PATHWAY_ID2', values='NUMBER_OF_OVERLAPPING_GENES', fill_value=0)\n",
    "\n",
    "plt.figure(figsize=(14, 10))\n",
    "sns.heatmap(heatmap_data, cmap=\"YlGnBu\")\n",
    "plt.title('Heatmap of Overlapping Genes between Pathways (All Data)')\n",
    "plt.show()"
   ]
  }
 ],
 "metadata": {
  "kernelspec": {
   "display_name": "Python 3 (ipykernel)",
   "language": "python",
   "name": "python3"
  },
  "language_info": {
   "codemirror_mode": {
    "name": "ipython",
    "version": 3
   },
   "file_extension": ".py",
   "mimetype": "text/x-python",
   "name": "python",
   "nbconvert_exporter": "python",
   "pygments_lexer": "ipython3",
   "version": "3.12.3"
  }
 },
 "nbformat": 4,
 "nbformat_minor": 5
}
