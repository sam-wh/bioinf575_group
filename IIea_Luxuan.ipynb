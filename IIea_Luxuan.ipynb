{
 "cells": [
  {
   "cell_type": "markdown",
   "id": "d8959211-5f62-428e-90da-8608f26ce383",
   "metadata": {},
   "source": [
    "# Answers for Questions"
   ]
  },
  {
   "cell_type": "markdown",
   "id": "4e290443-6597-42f5-8891-6be3058c6a38",
   "metadata": {},
   "source": [
    "### Luxuan Wang's Answer"
   ]
  },
  {
   "cell_type": "markdown",
   "id": "5e5dfa74-6713-4dbd-a0a2-845a03773ca6",
   "metadata": {},
   "source": [
    "1. What was your biggest challenge in this project?\n",
    "\n",
    "* The biggest challenge in this project was handling the nested loops to compute the overlapping genes between every 2 pathways. Due to the large size of the dataset, validating the code and ensuring its correctness required a significant amount of time. This made the debugging process challenging, as even small changes in the code could result in a long time to verify the results.\n",
    "\n",
    "2. What did you learn while working on this project?\n",
    "* While working on this project, I learned how to manipulate datasets using pandas, especially splitting and mapping data across multiple columns. At the same time, the nested loop I wrote to identify overlapping genes made me realize the importance of code efficiency when working with large datasets. Writing efficient and scalable code in data-intensive projects is really important since it benefits the running time. \n",
    "\n",
    "3. If you had more time on the project, what other question(s) would you like to answer?\n",
    "* I would like to answer the question: How do overlapping genes between biological pathways correlate with their functional relationships and disease associations?\n"
   ]
  },
  {
   "cell_type": "markdown",
   "id": "c9d662d3-a5bc-4a02-b208-445d54f5d353",
   "metadata": {},
   "source": [
    "### Ileanexis Madera Cuevas's Answers\n",
    "1. What was your biggest challenge in this project?\n",
    "2. What did you learn while working on this project?\n",
    "3. If you had more time on the project, what other question(s) would you like to answer?\n", 
   ]
  },
  {
   "cell_type": "markdown",
   "id": "e9a79d0d-efaf-42e2-af03-b39d63d9c8a2",
   "metadata": {},
   "source": [
    "### Jacon Horn's Answers\n",
    "1. What was your biggest challenge in this project?\n",
    "2. What did you learn while working on this project?\n",
    "3. If you had more time on the project, what other question(s) would you like to answer?\n"
   ]
  },
  {
   "cell_type": "markdown",
   "id": "e2624a65-cb40-4fc3-b997-5ecd77433e01",
   "metadata": {},
   "source": [
    "### Sam Wheeler's Answers\n",
    "1. What was your biggest challenge in this project?\n",
    "2. What did you learn while working on this project?\n",
    "3. If you had more time on the project, what other question(s) would you like to answer?\n"
   ]
  },
  {
   "cell_type": "code",
   "execution_count": 7,
   "id": "81e61b5f-e79c-45ef-b30a-d5a3e2cb38bc",
   "metadata": {},
   "outputs": [],
   "source": [
    "import pandas as pd"
   ]
  },
  {
   "cell_type": "markdown",
   "id": "3703c090-c852-4b79-883f-e6e3816bbe49",
   "metadata": {},
   "source": [
    "# Preparation"
   ]
  },
  {
   "cell_type": "code",
   "execution_count": 9,
   "id": "57469f27-c64e-4282-881c-6b042795d13f",
   "metadata": {},
   "outputs": [],
   "source": [
    "df_pathway=pd.read_csv(\"pathway.txt\", sep=\"\\t\", header=None)\n",
    "df_pathway.columns=[\"PATHWAY_ID\",\"PATHWAY_NAME\"]\n",
    "df_gene=pd.read_csv(\"gene.txt\", sep=\"\\t\", header=None)\n",
    "df_gene.columns=[\"GENE_ID\", \"TYPE\", \"TYPE_DESCRIPTION\" ,\"GENE_INFO\"]\n",
    "df_gene_pathway=pd.read_csv(\"gen_pathway.txt\", sep=\"\\t\", header=None)\n",
    "df_gene_pathway.columns=[\"GENE_ID\" , \"PATHWAY_ID\"]"
   ]
  },
  {
   "cell_type": "code",
   "execution_count": 10,
   "id": "493febbd-6046-4a87-b14d-6dcf18461baa",
   "metadata": {},
   "outputs": [],
   "source": [
    "df_gene_filter=df_gene.drop(columns=[\"TYPE\",\"TYPE_DESCRIPTION\"])"
   ]
  },
  {
   "cell_type": "code",
   "execution_count": 11,
   "id": "08477cc9-3ec4-4ca4-a9d5-8de1def938ed",
   "metadata": {},
   "outputs": [
    {
     "data": {
      "text/html": [
       "<div>\n",
       "<style scoped>\n",
       "    .dataframe tbody tr th:only-of-type {\n",
       "        vertical-align: middle;\n",
       "    }\n",
       "\n",
       "    .dataframe tbody tr th {\n",
       "        vertical-align: top;\n",
       "    }\n",
       "\n",
       "    .dataframe thead th {\n",
       "        text-align: right;\n",
       "    }\n",
       "</style>\n",
       "<table border=\"1\" class=\"dataframe\">\n",
       "  <thead>\n",
       "    <tr style=\"text-align: right;\">\n",
       "      <th></th>\n",
       "      <th>GENE_ID</th>\n",
       "      <th>GENE_SYMBOL</th>\n",
       "      <th>GENE_NAME</th>\n",
       "    </tr>\n",
       "  </thead>\n",
       "  <tbody>\n",
       "    <tr>\n",
       "      <th>0</th>\n",
       "      <td>hsa:102466751</td>\n",
       "      <td>MIR6859-1, hsa-mir-6859-1</td>\n",
       "      <td>microRNA 6859-1</td>\n",
       "    </tr>\n",
       "    <tr>\n",
       "      <th>1</th>\n",
       "      <td>hsa:100302278</td>\n",
       "      <td>MIR1302-2, MIRN1302-2, hsa-mir-1302-2</td>\n",
       "      <td>microRNA 1302-2</td>\n",
       "    </tr>\n",
       "    <tr>\n",
       "      <th>2</th>\n",
       "      <td>hsa:79501</td>\n",
       "      <td>OR4F5</td>\n",
       "      <td>olfactory receptor family 4 subfamily F member 5</td>\n",
       "    </tr>\n",
       "    <tr>\n",
       "      <th>3</th>\n",
       "      <td>hsa:102465909</td>\n",
       "      <td>MIR6859-2, hsa-mir-6859-2</td>\n",
       "      <td>microRNA 6859-2</td>\n",
       "    </tr>\n",
       "    <tr>\n",
       "      <th>4</th>\n",
       "      <td>hsa:112268260</td>\n",
       "      <td>uncharacterized LOC112268260</td>\n",
       "      <td>None</td>\n",
       "    </tr>\n",
       "    <tr>\n",
       "      <th>...</th>\n",
       "      <td>...</td>\n",
       "      <td>...</td>\n",
       "      <td>...</td>\n",
       "    </tr>\n",
       "    <tr>\n",
       "      <th>24678</th>\n",
       "      <td>hsa:124909318</td>\n",
       "      <td>testis-specific Y-encoded protein 3-like</td>\n",
       "      <td>None</td>\n",
       "    </tr>\n",
       "    <tr>\n",
       "      <th>24679</th>\n",
       "      <td>hsa:124909320</td>\n",
       "      <td>testis-specific Y-encoded protein 3-like</td>\n",
       "      <td>None</td>\n",
       "    </tr>\n",
       "    <tr>\n",
       "      <th>24680</th>\n",
       "      <td>hsa:124909329</td>\n",
       "      <td>testis-specific Y-encoded protein 4-like</td>\n",
       "      <td>None</td>\n",
       "    </tr>\n",
       "    <tr>\n",
       "      <th>24681</th>\n",
       "      <td>hsa:124909330</td>\n",
       "      <td>testis-specific Y-encoded protein 1-like</td>\n",
       "      <td>None</td>\n",
       "    </tr>\n",
       "    <tr>\n",
       "      <th>24682</th>\n",
       "      <td>hsa:124909332</td>\n",
       "      <td>testis-specific Y-encoded protein 4-like</td>\n",
       "      <td>None</td>\n",
       "    </tr>\n",
       "  </tbody>\n",
       "</table>\n",
       "<p>24683 rows × 3 columns</p>\n",
       "</div>"
      ],
      "text/plain": [
       "             GENE_ID                               GENE_SYMBOL  \\\n",
       "0      hsa:102466751                 MIR6859-1, hsa-mir-6859-1   \n",
       "1      hsa:100302278     MIR1302-2, MIRN1302-2, hsa-mir-1302-2   \n",
       "2          hsa:79501                                     OR4F5   \n",
       "3      hsa:102465909                 MIR6859-2, hsa-mir-6859-2   \n",
       "4      hsa:112268260              uncharacterized LOC112268260   \n",
       "...              ...                                       ...   \n",
       "24678  hsa:124909318  testis-specific Y-encoded protein 3-like   \n",
       "24679  hsa:124909320  testis-specific Y-encoded protein 3-like   \n",
       "24680  hsa:124909329  testis-specific Y-encoded protein 4-like   \n",
       "24681  hsa:124909330  testis-specific Y-encoded protein 1-like   \n",
       "24682  hsa:124909332  testis-specific Y-encoded protein 4-like   \n",
       "\n",
       "                                               GENE_NAME  \n",
       "0                                        microRNA 6859-1  \n",
       "1                                        microRNA 1302-2  \n",
       "2       olfactory receptor family 4 subfamily F member 5  \n",
       "3                                        microRNA 6859-2  \n",
       "4                                                   None  \n",
       "...                                                  ...  \n",
       "24678                                               None  \n",
       "24679                                               None  \n",
       "24680                                               None  \n",
       "24681                                               None  \n",
       "24682                                               None  \n",
       "\n",
       "[24683 rows x 3 columns]"
      ]
     },
     "execution_count": 11,
     "metadata": {},
     "output_type": "execute_result"
    }
   ],
   "source": [
    "df_gene_filter_split=df_gene_filter[\"GENE_INFO\"].str.split(';',expand=True)\n",
    "df_gene_filter_split_new = pd.concat([df_gene_filter.drop(columns=[\"GENE_INFO\"]), df_gene_filter_split], axis=1)\n",
    "df_gene_filter_split_new.columns=[\"GENE_ID\",\"GENE_SYMBOL\",\"GENE_NAME\"]\n",
    "df_gene_filter_split_new"
   ]
  },
  {
   "cell_type": "markdown",
   "id": "fbf68050-3024-42e5-b881-4924aa5e00ea",
   "metadata": {},
   "source": [
    "# Merge"
   ]
  },
  {
   "cell_type": "code",
   "execution_count": 13,
   "id": "8236304a-8d4b-4c6f-ab0c-5c1105d583ed",
   "metadata": {},
   "outputs": [
    {
     "data": {
      "text/html": [
       "<div>\n",
       "<style scoped>\n",
       "    .dataframe tbody tr th:only-of-type {\n",
       "        vertical-align: middle;\n",
       "    }\n",
       "\n",
       "    .dataframe tbody tr th {\n",
       "        vertical-align: top;\n",
       "    }\n",
       "\n",
       "    .dataframe thead th {\n",
       "        text-align: right;\n",
       "    }\n",
       "</style>\n",
       "<table border=\"1\" class=\"dataframe\">\n",
       "  <thead>\n",
       "    <tr style=\"text-align: right;\">\n",
       "      <th></th>\n",
       "      <th>GENE_ID</th>\n",
       "      <th>PATHWAY_ID</th>\n",
       "      <th>PATHWAY_NAME</th>\n",
       "      <th>GENE_SYMBOL</th>\n",
       "      <th>GENE_NAME</th>\n",
       "    </tr>\n",
       "  </thead>\n",
       "  <tbody>\n",
       "    <tr>\n",
       "      <th>0</th>\n",
       "      <td>hsa:10327</td>\n",
       "      <td>path:hsa00010</td>\n",
       "      <td>Glycolysis / Gluconeogenesis - Homo sapiens (h...</td>\n",
       "      <td>AKR1A1, ALDR1, ALR, ARM, DD3, HEL-S-6</td>\n",
       "      <td>aldo-keto reductase family 1 member A1</td>\n",
       "    </tr>\n",
       "    <tr>\n",
       "      <th>1</th>\n",
       "      <td>hsa:124</td>\n",
       "      <td>path:hsa00010</td>\n",
       "      <td>Glycolysis / Gluconeogenesis - Homo sapiens (h...</td>\n",
       "      <td>ADH1A, ADH1</td>\n",
       "      <td>alcohol dehydrogenase 1A (class I), alpha pol...</td>\n",
       "    </tr>\n",
       "    <tr>\n",
       "      <th>2</th>\n",
       "      <td>hsa:125</td>\n",
       "      <td>path:hsa00010</td>\n",
       "      <td>Glycolysis / Gluconeogenesis - Homo sapiens (h...</td>\n",
       "      <td>ADH1B, ADH2, HEL-S-117</td>\n",
       "      <td>alcohol dehydrogenase 1B (class I), beta poly...</td>\n",
       "    </tr>\n",
       "    <tr>\n",
       "      <th>3</th>\n",
       "      <td>hsa:126</td>\n",
       "      <td>path:hsa00010</td>\n",
       "      <td>Glycolysis / Gluconeogenesis - Homo sapiens (h...</td>\n",
       "      <td>ADH1C, ADH3</td>\n",
       "      <td>alcohol dehydrogenase 1C (class I), gamma pol...</td>\n",
       "    </tr>\n",
       "    <tr>\n",
       "      <th>4</th>\n",
       "      <td>hsa:127</td>\n",
       "      <td>path:hsa00010</td>\n",
       "      <td>Glycolysis / Gluconeogenesis - Homo sapiens (h...</td>\n",
       "      <td>ADH4, ADH-2, HEL-S-4</td>\n",
       "      <td>alcohol dehydrogenase 4 (class II), pi polype...</td>\n",
       "    </tr>\n",
       "    <tr>\n",
       "      <th>...</th>\n",
       "      <td>...</td>\n",
       "      <td>...</td>\n",
       "      <td>...</td>\n",
       "      <td>...</td>\n",
       "      <td>...</td>\n",
       "    </tr>\n",
       "    <tr>\n",
       "      <th>37456</th>\n",
       "      <td>hsa:91860</td>\n",
       "      <td>path:hsa05418</td>\n",
       "      <td>Fluid shear stress and atherosclerosis - Homo ...</td>\n",
       "      <td>CALML4, NY-BR-20</td>\n",
       "      <td>calmodulin like 4</td>\n",
       "    </tr>\n",
       "    <tr>\n",
       "      <th>37457</th>\n",
       "      <td>hsa:92</td>\n",
       "      <td>path:hsa05418</td>\n",
       "      <td>Fluid shear stress and atherosclerosis - Homo ...</td>\n",
       "      <td>ACVR2A, ACTRII, ACVR2</td>\n",
       "      <td>activin A receptor type 2A</td>\n",
       "    </tr>\n",
       "    <tr>\n",
       "      <th>37458</th>\n",
       "      <td>hsa:93</td>\n",
       "      <td>path:hsa05418</td>\n",
       "      <td>Fluid shear stress and atherosclerosis - Homo ...</td>\n",
       "      <td>ACVR2B, ACTRIIB, ActR-IIB, HTX4</td>\n",
       "      <td>activin A receptor type 2B</td>\n",
       "    </tr>\n",
       "    <tr>\n",
       "      <th>37459</th>\n",
       "      <td>hsa:9446</td>\n",
       "      <td>path:hsa05418</td>\n",
       "      <td>Fluid shear stress and atherosclerosis - Homo ...</td>\n",
       "      <td>GSTO1, GSTO_1-1, GSTTLp28, HEL-S-21, P28, SPG-R</td>\n",
       "      <td>glutathione S-transferase omega 1</td>\n",
       "    </tr>\n",
       "    <tr>\n",
       "      <th>37460</th>\n",
       "      <td>hsa:9817</td>\n",
       "      <td>path:hsa05418</td>\n",
       "      <td>Fluid shear stress and atherosclerosis - Homo ...</td>\n",
       "      <td>KEAP1, INrf2, KLHL19</td>\n",
       "      <td>kelch like ECH associated protein 1</td>\n",
       "    </tr>\n",
       "  </tbody>\n",
       "</table>\n",
       "<p>37461 rows × 5 columns</p>\n",
       "</div>"
      ],
      "text/plain": [
       "         GENE_ID     PATHWAY_ID  \\\n",
       "0      hsa:10327  path:hsa00010   \n",
       "1        hsa:124  path:hsa00010   \n",
       "2        hsa:125  path:hsa00010   \n",
       "3        hsa:126  path:hsa00010   \n",
       "4        hsa:127  path:hsa00010   \n",
       "...          ...            ...   \n",
       "37456  hsa:91860  path:hsa05418   \n",
       "37457     hsa:92  path:hsa05418   \n",
       "37458     hsa:93  path:hsa05418   \n",
       "37459   hsa:9446  path:hsa05418   \n",
       "37460   hsa:9817  path:hsa05418   \n",
       "\n",
       "                                            PATHWAY_NAME  \\\n",
       "0      Glycolysis / Gluconeogenesis - Homo sapiens (h...   \n",
       "1      Glycolysis / Gluconeogenesis - Homo sapiens (h...   \n",
       "2      Glycolysis / Gluconeogenesis - Homo sapiens (h...   \n",
       "3      Glycolysis / Gluconeogenesis - Homo sapiens (h...   \n",
       "4      Glycolysis / Gluconeogenesis - Homo sapiens (h...   \n",
       "...                                                  ...   \n",
       "37456  Fluid shear stress and atherosclerosis - Homo ...   \n",
       "37457  Fluid shear stress and atherosclerosis - Homo ...   \n",
       "37458  Fluid shear stress and atherosclerosis - Homo ...   \n",
       "37459  Fluid shear stress and atherosclerosis - Homo ...   \n",
       "37460  Fluid shear stress and atherosclerosis - Homo ...   \n",
       "\n",
       "                                           GENE_SYMBOL  \\\n",
       "0                AKR1A1, ALDR1, ALR, ARM, DD3, HEL-S-6   \n",
       "1                                          ADH1A, ADH1   \n",
       "2                               ADH1B, ADH2, HEL-S-117   \n",
       "3                                          ADH1C, ADH3   \n",
       "4                                 ADH4, ADH-2, HEL-S-4   \n",
       "...                                                ...   \n",
       "37456                                 CALML4, NY-BR-20   \n",
       "37457                            ACVR2A, ACTRII, ACVR2   \n",
       "37458                  ACVR2B, ACTRIIB, ActR-IIB, HTX4   \n",
       "37459  GSTO1, GSTO_1-1, GSTTLp28, HEL-S-21, P28, SPG-R   \n",
       "37460                             KEAP1, INrf2, KLHL19   \n",
       "\n",
       "                                               GENE_NAME  \n",
       "0                 aldo-keto reductase family 1 member A1  \n",
       "1       alcohol dehydrogenase 1A (class I), alpha pol...  \n",
       "2       alcohol dehydrogenase 1B (class I), beta poly...  \n",
       "3       alcohol dehydrogenase 1C (class I), gamma pol...  \n",
       "4       alcohol dehydrogenase 4 (class II), pi polype...  \n",
       "...                                                  ...  \n",
       "37456                                  calmodulin like 4  \n",
       "37457                         activin A receptor type 2A  \n",
       "37458                         activin A receptor type 2B  \n",
       "37459                  glutathione S-transferase omega 1  \n",
       "37460                kelch like ECH associated protein 1  \n",
       "\n",
       "[37461 rows x 5 columns]"
      ]
     },
     "execution_count": 13,
     "metadata": {},
     "output_type": "execute_result"
    }
   ],
   "source": [
    "merge_pathway=df_gene_pathway.merge(df_pathway,how=\"left\", on=\"PATHWAY_ID\")\n",
    "merge_pathway_gene=merge_pathway.merge(df_gene_filter_split_new, how=\"left\", on=\"GENE_ID\")\n",
    "merge_pathway_gene"
   ]
  },
  {
   "cell_type": "code",
   "execution_count": 17,
   "id": "38602579-5707-4eb5-a1e5-91b8278d9e0b",
   "metadata": {},
   "outputs": [],
   "source": [
    "# save merged df as a .csv for downstream use \n",
    "merge_pathway_gene.to_csv('gene_pathway_gene_symbols.csv', index=False)"
   ]
  },
  {
   "cell_type": "markdown",
   "id": "ba05e11e-8478-4f20-918b-ecebc7aeeed3",
   "metadata": {},
   "source": [
    "# Overlapping"
   ]
  },
  {
   "cell_type": "code",
   "execution_count": 15,
   "id": "68f2630b-edfc-4922-b400-33f0fc7997e8",
   "metadata": {},
   "outputs": [
    {
     "ename": "KeyboardInterrupt",
     "evalue": "",
     "output_type": "error",
     "traceback": [
      "\u001b[1;31m---------------------------------------------------------------------------\u001b[0m",
      "\u001b[1;31mKeyboardInterrupt\u001b[0m                         Traceback (most recent call last)",
      "Cell \u001b[1;32mIn[15], line 8\u001b[0m\n\u001b[0;32m      6\u001b[0m PATHWAY_ID2\u001b[38;5;241m=\u001b[39mmerge_pathway_gene\u001b[38;5;241m.\u001b[39mloc[x,\u001b[38;5;124m\"\u001b[39m\u001b[38;5;124mPATHWAY_ID\u001b[39m\u001b[38;5;124m\"\u001b[39m]\n\u001b[0;32m      7\u001b[0m PATHWAY_NAME2\u001b[38;5;241m=\u001b[39mmerge_pathway_gene\u001b[38;5;241m.\u001b[39mloc[x,\u001b[38;5;124m\"\u001b[39m\u001b[38;5;124mPATHWAY_NAME\u001b[39m\u001b[38;5;124m\"\u001b[39m]\n\u001b[1;32m----> 8\u001b[0m overlap_list\u001b[38;5;241m=\u001b[39m\u001b[38;5;28mlist\u001b[39m(\u001b[38;5;28mset\u001b[39m(merge_pathway_gene\u001b[38;5;241m.\u001b[39mloc[i,\u001b[38;5;124m\"\u001b[39m\u001b[38;5;124mGENE_SYMBOL\u001b[39m\u001b[38;5;124m\"\u001b[39m]\u001b[38;5;241m.\u001b[39msplit(\u001b[38;5;124m'\u001b[39m\u001b[38;5;124m, \u001b[39m\u001b[38;5;124m'\u001b[39m)) \u001b[38;5;241m&\u001b[39m \u001b[38;5;28mset\u001b[39m(merge_pathway_gene\u001b[38;5;241m.\u001b[39mloc[x, \u001b[38;5;124m\"\u001b[39m\u001b[38;5;124mGENE_SYMBOL\u001b[39m\u001b[38;5;124m\"\u001b[39m]\u001b[38;5;241m.\u001b[39msplit(\u001b[38;5;124m'\u001b[39m\u001b[38;5;124m, \u001b[39m\u001b[38;5;124m'\u001b[39m)))\n\u001b[0;32m      9\u001b[0m \u001b[38;5;28;01mif\u001b[39;00m overlap_list:\n\u001b[0;32m     10\u001b[0m     overlap_list_str\u001b[38;5;241m=\u001b[39m\u001b[38;5;124m'\u001b[39m\u001b[38;5;124m; \u001b[39m\u001b[38;5;124m'\u001b[39m\u001b[38;5;241m.\u001b[39mjoin(overlap_list)\n",
      "File \u001b[1;32m~\\anaconda3\\Lib\\site-packages\\pandas\\core\\indexing.py:1183\u001b[0m, in \u001b[0;36m_LocationIndexer.__getitem__\u001b[1;34m(self, key)\u001b[0m\n\u001b[0;32m   1181\u001b[0m     key \u001b[38;5;241m=\u001b[39m \u001b[38;5;28mtuple\u001b[39m(com\u001b[38;5;241m.\u001b[39mapply_if_callable(x, \u001b[38;5;28mself\u001b[39m\u001b[38;5;241m.\u001b[39mobj) \u001b[38;5;28;01mfor\u001b[39;00m x \u001b[38;5;129;01min\u001b[39;00m key)\n\u001b[0;32m   1182\u001b[0m     \u001b[38;5;28;01mif\u001b[39;00m \u001b[38;5;28mself\u001b[39m\u001b[38;5;241m.\u001b[39m_is_scalar_access(key):\n\u001b[1;32m-> 1183\u001b[0m         \u001b[38;5;28;01mreturn\u001b[39;00m \u001b[38;5;28mself\u001b[39m\u001b[38;5;241m.\u001b[39mobj\u001b[38;5;241m.\u001b[39m_get_value(\u001b[38;5;241m*\u001b[39mkey, takeable\u001b[38;5;241m=\u001b[39m\u001b[38;5;28mself\u001b[39m\u001b[38;5;241m.\u001b[39m_takeable)\n\u001b[0;32m   1184\u001b[0m     \u001b[38;5;28;01mreturn\u001b[39;00m \u001b[38;5;28mself\u001b[39m\u001b[38;5;241m.\u001b[39m_getitem_tuple(key)\n\u001b[0;32m   1185\u001b[0m \u001b[38;5;28;01melse\u001b[39;00m:\n\u001b[0;32m   1186\u001b[0m     \u001b[38;5;66;03m# we by definition only have the 0th axis\u001b[39;00m\n",
      "\u001b[1;31mKeyboardInterrupt\u001b[0m: "
     ]
    }
   ],
   "source": [
    "overlap_all=list()\n",
    "for i in range(merge_pathway_gene.shape[0]-1):\n",
    "    for x in range(i+1,merge_pathway_gene.shape[0]):\n",
    "        PATHWAY_ID1=merge_pathway_gene.loc[i,\"PATHWAY_ID\"]\n",
    "        PATHWAY_NAME1=merge_pathway_gene.loc[i,\"PATHWAY_NAME\"]\n",
    "        PATHWAY_ID2=merge_pathway_gene.loc[x,\"PATHWAY_ID\"]\n",
    "        PATHWAY_NAME2=merge_pathway_gene.loc[x,\"PATHWAY_NAME\"]\n",
    "        overlap_list=list(set(merge_pathway_gene.loc[i,\"GENE_SYMBOL\"].split(', ')) & set(merge_pathway_gene.loc[x, \"GENE_SYMBOL\"].split(', ')))\n",
    "        if overlap_list:\n",
    "            overlap_list_str='; '.join(overlap_list)\n",
    "            overlap_all.append([ PATHWAY_ID1,PATHWAY_NAME1, PATHWAY_ID2,PATHWAY_NAME2,len(overlap_list),overlap_list_str])\n",
    "df_overlap_all=pd.DataFrame(overlap_all)\n",
    "df_overlap_all.columns=[\"PATHWAY_ID1\", \"PATHWAY_NAME1\", \"PATHWAY_ID2\", \"PATHWAY_NAME2\", \"NUMBER_OF_OVERLAPPING_GENES\", \"LIST_OF_OVERLAPPING_GENES\"]\n"
   ]
  },
  {
   "cell_type": "code",
   "execution_count": null,
   "id": "ecd584b2-7564-41bf-ac00-6b2d5cbec18c",
   "metadata": {},
   "outputs": [],
   "source": [
    "df_overlap_all"
   ]
  },
  {
   "cell_type": "markdown",
   "id": "8d877689-88b1-40da-9667-d2528225f933",
   "metadata": {},
   "source": [
    "# Save the results"
   ]
  },
  {
   "cell_type": "code",
   "execution_count": null,
   "id": "ea2beda5-66d3-44bd-8558-0f9d58729954",
   "metadata": {},
   "outputs": [],
   "source": [
    "c1=df_overlap_all[\"PATHWAY_ID1\"] != df_overlap_all[\"PATHWAY_ID2\"]\n",
    "df_overlap_all_final=df_overlap_all[c1].sort_values(by=\"NUMBER_OF_OVERLAPPING_GENES\", ascending=False)\n",
    "df_overlap_all_final.to_csv(\"KEGG_crosstalk.csv\", index=False)"
   ]
  },
  {
   "cell_type": "code",
   "execution_count": null,
   "id": "3d58fc6f-6b72-497f-8c1d-4f37a42b3da3",
   "metadata": {},
   "outputs": [],
   "source": []
  }
 ],
 "metadata": {
  "kernelspec": {
   "display_name": "Python 3 (ipykernel)",
   "language": "python",
   "name": "python3"
  },
  "language_info": {
   "codemirror_mode": {
    "name": "ipython",
    "version": 3
   },
   "file_extension": ".py",
   "mimetype": "text/x-python",
   "name": "python",
   "nbconvert_exporter": "python",
   "pygments_lexer": "ipython3",
   "version": "3.12.3"
  }
 },
 "nbformat": 4,
 "nbformat_minor": 5
}
