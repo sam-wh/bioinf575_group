{
 "cells": [
  {
   "cell_type": "code",
   "execution_count": null,
   "id": "997af69b-1a65-4074-b43b-c552debdbbac",
   "metadata": {},
   "outputs": [],
   "source": []
  },
  {
   "cell_type": "markdown",
   "id": "8d7cb655-4a07-4e2f-b42b-282a69d5653c",
   "metadata": {},
   "source": [
    "# Answers for Questions"
   ]
  },
  {
   "cell_type": "markdown",
   "id": "3e6f7465-8af9-4bbd-a1aa-73a8ac4028c8",
   "metadata": {
    "jp-MarkdownHeadingCollapsed": true
   },
   "source": [
    "### Luxuan Wang's Answer"
   ]
  },
  {
   "cell_type": "markdown",
   "id": "7585054c-617e-41e1-a93c-85a0a6c6c572",
   "metadata": {},
   "source": [
    "1. What was your biggest challenge in this project?\n",
    "* The biggest challenge in this project was handling the nested loops to compute the overlapping genes between every 2 pathways. Due to the large size of the dataset, validating the code and ensuring its correctness required a significant amount of time. This made the debugging process challenging, as even small changes in the code could result in a long time to verify the results.\n",
    "2. What did you learn while working on this project?\n",
    "* While working on this project, I learned how to manipulate datasets using pandas, especially splitting and mapping data across multiple columns. At the same time, the nested loop I wrote to identify overlapping genes made me realize the importance of code efficiency when working with large datasets. Writing efficient and scalable code in data-intensive projects is really important since it benefits the running time. \n",
    "3. If you had more time on the project, what other question(s) would you like to answer?\n",
    "* I would like to answer the question: How do overlapping genes between biological pathways correlate with their functional relationships and disease associations?\n"
   ]
  },
  {
   "cell_type": "markdown",
   "id": "d86b9955-10e2-42d9-a6f5-a538622f3dd1",
   "metadata": {
    "jp-MarkdownHeadingCollapsed": true
   },
   "source": [
    "### Ileanexis Madera Cuevas's Answer"
   ]
  },
  {
   "cell_type": "markdown",
   "id": "d254084c-9fd2-4b75-9bd2-190ad2093fcd",
   "metadata": {},
   "source": [
    "1. What was your biggest challenge in this project?\n",
    "* The biggest challenge in this project was handling the dataset for overlapping genes between all pairs of pathways because of the high computational cost associated with comparing every possible pair of rows. \n",
    "2. What did you learn while working on this project?\n",
    "* I learned the importance of computational methods to manage large datasets efficiently, which require time and complex code but help analyze large datasets more efficiently. I also learned the importance of preprocessing data to enable faster computations. \n",
    "3. If you had more time on the project, what other question(s) would you like to answer?\n",
    "* What biological functions or pathways are most commonly shared between different pathways? To identify critical genes that might be involved in multiple biological processes. \n"
   ]
  },
  {
   "cell_type": "markdown",
   "id": "c4218d4a-4baf-4701-94d5-8d0a7971d4b9",
   "metadata": {},
   "source": [
    "### Samantha Wheeler's Answer"
   ]
  },
  {
   "cell_type": "markdown",
   "id": "15279fc8-3c73-4b9f-9291-beacb45a28d6",
   "metadata": {},
   "source": [
    "1. What was your biggest challenge in this project?\n",
    "My biggest challenge on this project was figuring out how to subset datasets with pandas, as well as how to get my data into a form that could be graphed. \n",
    "\n",
    "2. What did you learn while working on this project?\n",
    "I learned how to make venn diagrams with matplotlib and in a broader sense, how to take code that I was given by other people and interpret it so that I could work on it. I also learned how to use git and github while working with a group of people rather than just using it to keep my own files under version control.\n",
    "\n",
    "3. If you had more time on the project, what other question(s) would you like to answer?\n",
    "If I had more time on this project, I would like to look deeper into the list of top genes with most pathway overlap and see what conclusions can be drawn from which genes are overlapping with which other genes."
   ]
  },
  {
   "cell_type": "markdown",
   "id": "1e0ba759-bb25-4c66-bdca-2bfbe5d041fc",
   "metadata": {},
   "source": [
    "### Jacob Horn's Answer"
   ]
  },
  {
   "cell_type": "markdown",
   "id": "8e2e0e5a-02fd-4081-95ab-d2dc7fe256ab",
   "metadata": {},
   "source": [
    "1. What was your biggest challenge in this project?\n",
    "The biggest challenge in this project was reformatting the data in order to answer the question that was posed. I went through several iterations of reformatting the data before it was compatible with what I wanted to do with it.\n",
    "2. What did you learn while working on this project?\n",
    "I was surprised by the amount of overlap from the different pathways on the KEGG database. There were many genes that were on 100+ different pathways.\n",
    "3. If you had more time on the project, what other question(s) would you like to answer?\n",
    "If I had more time, I would like to make a web of all the genes and pathways to visualize the connections between genes on the KEGG database. It would be interesting to visualize this as a way of displaying the complex nature of gene interactions and pathways. \n"
   ]
  },
  {
   "cell_type": "code",
   "execution_count": 4,
   "id": "8305f2b9-33c1-4e2b-86f6-b7fbeda67678",
   "metadata": {},
   "outputs": [],
   "source": [
    "import pandas as pd \n",
    "import csv\n",
    "from collections import Counter\n",
    "import requests\n",
    "from matplotlib_venn import venn3\n",
    "from matplotlib_venn import venn2"
   ]
  },
  {
   "cell_type": "markdown",
   "id": "f9cb1b8e-ba06-4c95-98f2-39704ff0c51e",
   "metadata": {},
   "source": [
    "# Preparation"
   ]
  },
  {
   "cell_type": "code",
   "execution_count": 2,
   "id": "31ed9ee5-637b-4241-9827-5f266c86d24a",
   "metadata": {},
   "outputs": [],
   "source": [
    "df_pathway=pd.read_csv(\"pathway.txt\", sep=\"\\t\", header=None)\n",
    "df_pathway.columns=[\"PATHWAY_ID\",\"PATHWAY_NAME\"]\n",
    "df_gene=pd.read_csv(\"gene.txt\", sep=\"\\t\", header=None)\n",
    "df_gene.columns=[\"GENE_ID\", \"TYPE\", \"TYPE_DESCRIPTION\" ,\"GENE_INFO\"]\n",
    "df_gene_pathway=pd.read_csv(\"gen_pathway.txt\", sep=\"\\t\", header=None)\n",
    "df_gene_pathway.columns=[\"GENE_ID\" , \"PATHWAY_ID\"]"
   ]
  },
  {
   "cell_type": "code",
   "execution_count": 3,
   "id": "0390c64f-90f1-4d4d-abc5-bd28cd9862dd",
   "metadata": {},
   "outputs": [],
   "source": [
    "df_gene_filter=df_gene.drop(columns=[\"TYPE\",\"TYPE_DESCRIPTION\"])"
   ]
  },
  {
   "cell_type": "code",
   "execution_count": 4,
   "id": "a44911f6-3468-4524-9fdc-2924be6065b0",
   "metadata": {},
   "outputs": [
    {
     "data": {
      "text/html": [
       "<div>\n",
       "<style scoped>\n",
       "    .dataframe tbody tr th:only-of-type {\n",
       "        vertical-align: middle;\n",
       "    }\n",
       "\n",
       "    .dataframe tbody tr th {\n",
       "        vertical-align: top;\n",
       "    }\n",
       "\n",
       "    .dataframe thead th {\n",
       "        text-align: right;\n",
       "    }\n",
       "</style>\n",
       "<table border=\"1\" class=\"dataframe\">\n",
       "  <thead>\n",
       "    <tr style=\"text-align: right;\">\n",
       "      <th></th>\n",
       "      <th>GENE_ID</th>\n",
       "      <th>GENE_SYMBOL</th>\n",
       "      <th>GENE_NAME</th>\n",
       "    </tr>\n",
       "  </thead>\n",
       "  <tbody>\n",
       "    <tr>\n",
       "      <th>0</th>\n",
       "      <td>hsa:102466751</td>\n",
       "      <td>MIR6859-1, hsa-mir-6859-1</td>\n",
       "      <td>microRNA 6859-1</td>\n",
       "    </tr>\n",
       "    <tr>\n",
       "      <th>1</th>\n",
       "      <td>hsa:100302278</td>\n",
       "      <td>MIR1302-2, MIRN1302-2, hsa-mir-1302-2</td>\n",
       "      <td>microRNA 1302-2</td>\n",
       "    </tr>\n",
       "    <tr>\n",
       "      <th>2</th>\n",
       "      <td>hsa:79501</td>\n",
       "      <td>OR4F5</td>\n",
       "      <td>olfactory receptor family 4 subfamily F member 5</td>\n",
       "    </tr>\n",
       "    <tr>\n",
       "      <th>3</th>\n",
       "      <td>hsa:102465909</td>\n",
       "      <td>MIR6859-2, hsa-mir-6859-2</td>\n",
       "      <td>microRNA 6859-2</td>\n",
       "    </tr>\n",
       "    <tr>\n",
       "      <th>4</th>\n",
       "      <td>hsa:112268260</td>\n",
       "      <td>uncharacterized LOC112268260</td>\n",
       "      <td>None</td>\n",
       "    </tr>\n",
       "    <tr>\n",
       "      <th>...</th>\n",
       "      <td>...</td>\n",
       "      <td>...</td>\n",
       "      <td>...</td>\n",
       "    </tr>\n",
       "    <tr>\n",
       "      <th>24678</th>\n",
       "      <td>hsa:124909318</td>\n",
       "      <td>testis-specific Y-encoded protein 3-like</td>\n",
       "      <td>None</td>\n",
       "    </tr>\n",
       "    <tr>\n",
       "      <th>24679</th>\n",
       "      <td>hsa:124909320</td>\n",
       "      <td>testis-specific Y-encoded protein 3-like</td>\n",
       "      <td>None</td>\n",
       "    </tr>\n",
       "    <tr>\n",
       "      <th>24680</th>\n",
       "      <td>hsa:124909329</td>\n",
       "      <td>testis-specific Y-encoded protein 4-like</td>\n",
       "      <td>None</td>\n",
       "    </tr>\n",
       "    <tr>\n",
       "      <th>24681</th>\n",
       "      <td>hsa:124909330</td>\n",
       "      <td>testis-specific Y-encoded protein 1-like</td>\n",
       "      <td>None</td>\n",
       "    </tr>\n",
       "    <tr>\n",
       "      <th>24682</th>\n",
       "      <td>hsa:124909332</td>\n",
       "      <td>testis-specific Y-encoded protein 4-like</td>\n",
       "      <td>None</td>\n",
       "    </tr>\n",
       "  </tbody>\n",
       "</table>\n",
       "<p>24683 rows × 3 columns</p>\n",
       "</div>"
      ],
      "text/plain": [
       "             GENE_ID                               GENE_SYMBOL  \\\n",
       "0      hsa:102466751                 MIR6859-1, hsa-mir-6859-1   \n",
       "1      hsa:100302278     MIR1302-2, MIRN1302-2, hsa-mir-1302-2   \n",
       "2          hsa:79501                                     OR4F5   \n",
       "3      hsa:102465909                 MIR6859-2, hsa-mir-6859-2   \n",
       "4      hsa:112268260              uncharacterized LOC112268260   \n",
       "...              ...                                       ...   \n",
       "24678  hsa:124909318  testis-specific Y-encoded protein 3-like   \n",
       "24679  hsa:124909320  testis-specific Y-encoded protein 3-like   \n",
       "24680  hsa:124909329  testis-specific Y-encoded protein 4-like   \n",
       "24681  hsa:124909330  testis-specific Y-encoded protein 1-like   \n",
       "24682  hsa:124909332  testis-specific Y-encoded protein 4-like   \n",
       "\n",
       "                                               GENE_NAME  \n",
       "0                                        microRNA 6859-1  \n",
       "1                                        microRNA 1302-2  \n",
       "2       olfactory receptor family 4 subfamily F member 5  \n",
       "3                                        microRNA 6859-2  \n",
       "4                                                   None  \n",
       "...                                                  ...  \n",
       "24678                                               None  \n",
       "24679                                               None  \n",
       "24680                                               None  \n",
       "24681                                               None  \n",
       "24682                                               None  \n",
       "\n",
       "[24683 rows x 3 columns]"
      ]
     },
     "execution_count": 4,
     "metadata": {},
     "output_type": "execute_result"
    }
   ],
   "source": [
    "df_gene_filter_split=df_gene_filter[\"GENE_INFO\"].str.split(';',expand=True)\n",
    "df_gene_filter_split_new = pd.concat([df_gene_filter.drop(columns=[\"GENE_INFO\"]), df_gene_filter_split], axis=1)\n",
    "df_gene_filter_split_new.columns=[\"GENE_ID\",\"GENE_SYMBOL\",\"GENE_NAME\"]\n",
    "df_gene_filter_split_new"
   ]
  },
  {
   "cell_type": "markdown",
   "id": "0d2e115a-e41c-422f-8d99-d592662e239c",
   "metadata": {},
   "source": [
    "# Merge"
   ]
  },
  {
   "cell_type": "code",
   "execution_count": 5,
   "id": "da6d1436-faf8-4c39-a45a-ba3cdfac27c7",
   "metadata": {},
   "outputs": [
    {
     "data": {
      "text/html": [
       "<div>\n",
       "<style scoped>\n",
       "    .dataframe tbody tr th:only-of-type {\n",
       "        vertical-align: middle;\n",
       "    }\n",
       "\n",
       "    .dataframe tbody tr th {\n",
       "        vertical-align: top;\n",
       "    }\n",
       "\n",
       "    .dataframe thead th {\n",
       "        text-align: right;\n",
       "    }\n",
       "</style>\n",
       "<table border=\"1\" class=\"dataframe\">\n",
       "  <thead>\n",
       "    <tr style=\"text-align: right;\">\n",
       "      <th></th>\n",
       "      <th>GENE_ID</th>\n",
       "      <th>PATHWAY_ID</th>\n",
       "      <th>PATHWAY_NAME</th>\n",
       "      <th>GENE_SYMBOL</th>\n",
       "      <th>GENE_NAME</th>\n",
       "    </tr>\n",
       "  </thead>\n",
       "  <tbody>\n",
       "    <tr>\n",
       "      <th>0</th>\n",
       "      <td>hsa:10327</td>\n",
       "      <td>path:hsa00010</td>\n",
       "      <td>Glycolysis / Gluconeogenesis - Homo sapiens (h...</td>\n",
       "      <td>AKR1A1, ALDR1, ALR, ARM, DD3, HEL-S-6</td>\n",
       "      <td>aldo-keto reductase family 1 member A1</td>\n",
       "    </tr>\n",
       "    <tr>\n",
       "      <th>1</th>\n",
       "      <td>hsa:124</td>\n",
       "      <td>path:hsa00010</td>\n",
       "      <td>Glycolysis / Gluconeogenesis - Homo sapiens (h...</td>\n",
       "      <td>ADH1A, ADH1</td>\n",
       "      <td>alcohol dehydrogenase 1A (class I), alpha pol...</td>\n",
       "    </tr>\n",
       "    <tr>\n",
       "      <th>2</th>\n",
       "      <td>hsa:125</td>\n",
       "      <td>path:hsa00010</td>\n",
       "      <td>Glycolysis / Gluconeogenesis - Homo sapiens (h...</td>\n",
       "      <td>ADH1B, ADH2, HEL-S-117</td>\n",
       "      <td>alcohol dehydrogenase 1B (class I), beta poly...</td>\n",
       "    </tr>\n",
       "    <tr>\n",
       "      <th>3</th>\n",
       "      <td>hsa:126</td>\n",
       "      <td>path:hsa00010</td>\n",
       "      <td>Glycolysis / Gluconeogenesis - Homo sapiens (h...</td>\n",
       "      <td>ADH1C, ADH3</td>\n",
       "      <td>alcohol dehydrogenase 1C (class I), gamma pol...</td>\n",
       "    </tr>\n",
       "    <tr>\n",
       "      <th>4</th>\n",
       "      <td>hsa:127</td>\n",
       "      <td>path:hsa00010</td>\n",
       "      <td>Glycolysis / Gluconeogenesis - Homo sapiens (h...</td>\n",
       "      <td>ADH4, ADH-2, HEL-S-4</td>\n",
       "      <td>alcohol dehydrogenase 4 (class II), pi polype...</td>\n",
       "    </tr>\n",
       "    <tr>\n",
       "      <th>...</th>\n",
       "      <td>...</td>\n",
       "      <td>...</td>\n",
       "      <td>...</td>\n",
       "      <td>...</td>\n",
       "      <td>...</td>\n",
       "    </tr>\n",
       "    <tr>\n",
       "      <th>37456</th>\n",
       "      <td>hsa:91860</td>\n",
       "      <td>path:hsa05418</td>\n",
       "      <td>Fluid shear stress and atherosclerosis - Homo ...</td>\n",
       "      <td>CALML4, NY-BR-20</td>\n",
       "      <td>calmodulin like 4</td>\n",
       "    </tr>\n",
       "    <tr>\n",
       "      <th>37457</th>\n",
       "      <td>hsa:92</td>\n",
       "      <td>path:hsa05418</td>\n",
       "      <td>Fluid shear stress and atherosclerosis - Homo ...</td>\n",
       "      <td>ACVR2A, ACTRII, ACVR2</td>\n",
       "      <td>activin A receptor type 2A</td>\n",
       "    </tr>\n",
       "    <tr>\n",
       "      <th>37458</th>\n",
       "      <td>hsa:93</td>\n",
       "      <td>path:hsa05418</td>\n",
       "      <td>Fluid shear stress and atherosclerosis - Homo ...</td>\n",
       "      <td>ACVR2B, ACTRIIB, ActR-IIB, HTX4</td>\n",
       "      <td>activin A receptor type 2B</td>\n",
       "    </tr>\n",
       "    <tr>\n",
       "      <th>37459</th>\n",
       "      <td>hsa:9446</td>\n",
       "      <td>path:hsa05418</td>\n",
       "      <td>Fluid shear stress and atherosclerosis - Homo ...</td>\n",
       "      <td>GSTO1, GSTO_1-1, GSTTLp28, HEL-S-21, P28, SPG-R</td>\n",
       "      <td>glutathione S-transferase omega 1</td>\n",
       "    </tr>\n",
       "    <tr>\n",
       "      <th>37460</th>\n",
       "      <td>hsa:9817</td>\n",
       "      <td>path:hsa05418</td>\n",
       "      <td>Fluid shear stress and atherosclerosis - Homo ...</td>\n",
       "      <td>KEAP1, INrf2, KLHL19</td>\n",
       "      <td>kelch like ECH associated protein 1</td>\n",
       "    </tr>\n",
       "  </tbody>\n",
       "</table>\n",
       "<p>37461 rows × 5 columns</p>\n",
       "</div>"
      ],
      "text/plain": [
       "         GENE_ID     PATHWAY_ID  \\\n",
       "0      hsa:10327  path:hsa00010   \n",
       "1        hsa:124  path:hsa00010   \n",
       "2        hsa:125  path:hsa00010   \n",
       "3        hsa:126  path:hsa00010   \n",
       "4        hsa:127  path:hsa00010   \n",
       "...          ...            ...   \n",
       "37456  hsa:91860  path:hsa05418   \n",
       "37457     hsa:92  path:hsa05418   \n",
       "37458     hsa:93  path:hsa05418   \n",
       "37459   hsa:9446  path:hsa05418   \n",
       "37460   hsa:9817  path:hsa05418   \n",
       "\n",
       "                                            PATHWAY_NAME  \\\n",
       "0      Glycolysis / Gluconeogenesis - Homo sapiens (h...   \n",
       "1      Glycolysis / Gluconeogenesis - Homo sapiens (h...   \n",
       "2      Glycolysis / Gluconeogenesis - Homo sapiens (h...   \n",
       "3      Glycolysis / Gluconeogenesis - Homo sapiens (h...   \n",
       "4      Glycolysis / Gluconeogenesis - Homo sapiens (h...   \n",
       "...                                                  ...   \n",
       "37456  Fluid shear stress and atherosclerosis - Homo ...   \n",
       "37457  Fluid shear stress and atherosclerosis - Homo ...   \n",
       "37458  Fluid shear stress and atherosclerosis - Homo ...   \n",
       "37459  Fluid shear stress and atherosclerosis - Homo ...   \n",
       "37460  Fluid shear stress and atherosclerosis - Homo ...   \n",
       "\n",
       "                                           GENE_SYMBOL  \\\n",
       "0                AKR1A1, ALDR1, ALR, ARM, DD3, HEL-S-6   \n",
       "1                                          ADH1A, ADH1   \n",
       "2                               ADH1B, ADH2, HEL-S-117   \n",
       "3                                          ADH1C, ADH3   \n",
       "4                                 ADH4, ADH-2, HEL-S-4   \n",
       "...                                                ...   \n",
       "37456                                 CALML4, NY-BR-20   \n",
       "37457                            ACVR2A, ACTRII, ACVR2   \n",
       "37458                  ACVR2B, ACTRIIB, ActR-IIB, HTX4   \n",
       "37459  GSTO1, GSTO_1-1, GSTTLp28, HEL-S-21, P28, SPG-R   \n",
       "37460                             KEAP1, INrf2, KLHL19   \n",
       "\n",
       "                                               GENE_NAME  \n",
       "0                 aldo-keto reductase family 1 member A1  \n",
       "1       alcohol dehydrogenase 1A (class I), alpha pol...  \n",
       "2       alcohol dehydrogenase 1B (class I), beta poly...  \n",
       "3       alcohol dehydrogenase 1C (class I), gamma pol...  \n",
       "4       alcohol dehydrogenase 4 (class II), pi polype...  \n",
       "...                                                  ...  \n",
       "37456                                  calmodulin like 4  \n",
       "37457                         activin A receptor type 2A  \n",
       "37458                         activin A receptor type 2B  \n",
       "37459                  glutathione S-transferase omega 1  \n",
       "37460                kelch like ECH associated protein 1  \n",
       "\n",
       "[37461 rows x 5 columns]"
      ]
     },
     "execution_count": 5,
     "metadata": {},
     "output_type": "execute_result"
    }
   ],
   "source": [
    "merge_pathway=df_gene_pathway.merge(df_pathway,how=\"left\", on=\"PATHWAY_ID\")\n",
    "merge_pathway_gene=merge_pathway.merge(df_gene_filter_split_new, how=\"left\", on=\"GENE_ID\")\n",
    "merge_pathway_gene"
   ]
  },
  {
   "cell_type": "markdown",
   "id": "5a759be6-8af4-4640-918a-dfac3f566ab7",
   "metadata": {},
   "source": [
    "# Overlapping"
   ]
  },
  {
   "cell_type": "code",
   "execution_count": 6,
   "id": "6e6d3069-866b-4c67-9a20-e4f3fbd37c68",
   "metadata": {},
   "outputs": [],
   "source": [
    "overlap_all=list()\n",
    "for i in range(merge_pathway_gene.shape[0]-1):\n",
    "    for x in range(i+1,merge_pathway_gene.shape[0]):\n",
    "        PATHWAY_ID1=merge_pathway_gene.loc[i,\"PATHWAY_ID\"]\n",
    "        PATHWAY_NAME1=merge_pathway_gene.loc[i,\"PATHWAY_NAME\"]\n",
    "        PATHWAY_ID2=merge_pathway_gene.loc[x,\"PATHWAY_ID\"]\n",
    "        PATHWAY_NAME2=merge_pathway_gene.loc[x,\"PATHWAY_NAME\"]\n",
    "        overlap_list=list(set(merge_pathway_gene.loc[i,\"GENE_SYMBOL\"].split(', ')) & set(merge_pathway_gene.loc[x, \"GENE_SYMBOL\"].split(', ')))\n",
    "        if overlap_list:\n",
    "            overlap_list_str='; '.join(overlap_list)\n",
    "            overlap_all.append([ PATHWAY_ID1,PATHWAY_NAME1, PATHWAY_ID2,PATHWAY_NAME2,len(overlap_list),overlap_list_str])\n",
    "df_overlap_all=pd.DataFrame(overlap_all)\n",
    "df_overlap_all.columns=[\"PATHWAY_ID1\", \"PATHWAY_NAME1\", \"PATHWAY_ID2\", \"PATHWAY_NAME2\", \"NUMBER_OF_OVERLAPPING_GENES\", \"LIST_OF_OVERLAPPING_GENES\"]\n"
   ]
  },
  {
   "cell_type": "code",
   "execution_count": 8,
   "id": "997c9799-5745-4455-a95b-93ccd1438377",
   "metadata": {},
   "outputs": [
    {
     "data": {
      "text/html": [
       "<div>\n",
       "<style scoped>\n",
       "    .dataframe tbody tr th:only-of-type {\n",
       "        vertical-align: middle;\n",
       "    }\n",
       "\n",
       "    .dataframe tbody tr th {\n",
       "        vertical-align: top;\n",
       "    }\n",
       "\n",
       "    .dataframe thead th {\n",
       "        text-align: right;\n",
       "    }\n",
       "</style>\n",
       "<table border=\"1\" class=\"dataframe\">\n",
       "  <thead>\n",
       "    <tr style=\"text-align: right;\">\n",
       "      <th></th>\n",
       "      <th>PATHWAY_ID1</th>\n",
       "      <th>PATHWAY_NAME1</th>\n",
       "      <th>PATHWAY_ID2</th>\n",
       "      <th>PATHWAY_NAME2</th>\n",
       "      <th>NUMBER_OF_OVERLAPPING_GENES</th>\n",
       "      <th>LIST_OF_OVERLAPPING_GENES</th>\n",
       "    </tr>\n",
       "  </thead>\n",
       "  <tbody>\n",
       "    <tr>\n",
       "      <th>0</th>\n",
       "      <td>path:hsa00010</td>\n",
       "      <td>Glycolysis / Gluconeogenesis - Homo sapiens (h...</td>\n",
       "      <td>path:hsa00040</td>\n",
       "      <td>Pentose and glucuronate interconversions - Hom...</td>\n",
       "      <td>6</td>\n",
       "      <td>DD3; ALDR1; ALR; AKR1A1; ARM; HEL-S-6</td>\n",
       "    </tr>\n",
       "    <tr>\n",
       "      <th>1</th>\n",
       "      <td>path:hsa00010</td>\n",
       "      <td>Glycolysis / Gluconeogenesis - Homo sapiens (h...</td>\n",
       "      <td>path:hsa00040</td>\n",
       "      <td>Pentose and glucuronate interconversions - Hom...</td>\n",
       "      <td>1</td>\n",
       "      <td>ALDR1</td>\n",
       "    </tr>\n",
       "    <tr>\n",
       "      <th>2</th>\n",
       "      <td>path:hsa00010</td>\n",
       "      <td>Glycolysis / Gluconeogenesis - Homo sapiens (h...</td>\n",
       "      <td>path:hsa00051</td>\n",
       "      <td>Fructose and mannose metabolism - Homo sapiens...</td>\n",
       "      <td>1</td>\n",
       "      <td>ALDR1</td>\n",
       "    </tr>\n",
       "    <tr>\n",
       "      <th>3</th>\n",
       "      <td>path:hsa00010</td>\n",
       "      <td>Glycolysis / Gluconeogenesis - Homo sapiens (h...</td>\n",
       "      <td>path:hsa00052</td>\n",
       "      <td>Galactose metabolism - Homo sapiens (human)</td>\n",
       "      <td>1</td>\n",
       "      <td>ALDR1</td>\n",
       "    </tr>\n",
       "    <tr>\n",
       "      <th>4</th>\n",
       "      <td>path:hsa00010</td>\n",
       "      <td>Glycolysis / Gluconeogenesis - Homo sapiens (h...</td>\n",
       "      <td>path:hsa00053</td>\n",
       "      <td>Ascorbate and aldarate metabolism - Homo sapie...</td>\n",
       "      <td>6</td>\n",
       "      <td>DD3; ALDR1; ALR; AKR1A1; ARM; HEL-S-6</td>\n",
       "    </tr>\n",
       "    <tr>\n",
       "      <th>...</th>\n",
       "      <td>...</td>\n",
       "      <td>...</td>\n",
       "      <td>...</td>\n",
       "      <td>...</td>\n",
       "      <td>...</td>\n",
       "      <td>...</td>\n",
       "    </tr>\n",
       "    <tr>\n",
       "      <th>526876</th>\n",
       "      <td>path:hsa05418</td>\n",
       "      <td>Fluid shear stress and atherosclerosis - Homo ...</td>\n",
       "      <td>path:hsa05418</td>\n",
       "      <td>Fluid shear stress and atherosclerosis - Homo ...</td>\n",
       "      <td>6</td>\n",
       "      <td>caM; CAM3; CAMC; PHKD; CALML2; CAMIII</td>\n",
       "    </tr>\n",
       "    <tr>\n",
       "      <th>526877</th>\n",
       "      <td>path:hsa05418</td>\n",
       "      <td>Fluid shear stress and atherosclerosis - Homo ...</td>\n",
       "      <td>path:hsa05418</td>\n",
       "      <td>Fluid shear stress and atherosclerosis - Homo ...</td>\n",
       "      <td>3</td>\n",
       "      <td>CAM2; PHKD; CAMB</td>\n",
       "    </tr>\n",
       "    <tr>\n",
       "      <th>526878</th>\n",
       "      <td>path:hsa05418</td>\n",
       "      <td>Fluid shear stress and atherosclerosis - Homo ...</td>\n",
       "      <td>path:hsa05418</td>\n",
       "      <td>Fluid shear stress and atherosclerosis - Homo ...</td>\n",
       "      <td>3</td>\n",
       "      <td>PHKD; CALM; CAM1</td>\n",
       "    </tr>\n",
       "    <tr>\n",
       "      <th>526879</th>\n",
       "      <td>path:hsa05418</td>\n",
       "      <td>Fluid shear stress and atherosclerosis - Homo ...</td>\n",
       "      <td>path:hsa05418</td>\n",
       "      <td>Fluid shear stress and atherosclerosis - Homo ...</td>\n",
       "      <td>1</td>\n",
       "      <td>CAV</td>\n",
       "    </tr>\n",
       "    <tr>\n",
       "      <th>526880</th>\n",
       "      <td>path:hsa05418</td>\n",
       "      <td>Fluid shear stress and atherosclerosis - Homo ...</td>\n",
       "      <td>path:hsa05418</td>\n",
       "      <td>Fluid shear stress and atherosclerosis - Homo ...</td>\n",
       "      <td>1</td>\n",
       "      <td>VIP21</td>\n",
       "    </tr>\n",
       "  </tbody>\n",
       "</table>\n",
       "<p>526881 rows × 6 columns</p>\n",
       "</div>"
      ],
      "text/plain": [
       "          PATHWAY_ID1                                      PATHWAY_NAME1  \\\n",
       "0       path:hsa00010  Glycolysis / Gluconeogenesis - Homo sapiens (h...   \n",
       "1       path:hsa00010  Glycolysis / Gluconeogenesis - Homo sapiens (h...   \n",
       "2       path:hsa00010  Glycolysis / Gluconeogenesis - Homo sapiens (h...   \n",
       "3       path:hsa00010  Glycolysis / Gluconeogenesis - Homo sapiens (h...   \n",
       "4       path:hsa00010  Glycolysis / Gluconeogenesis - Homo sapiens (h...   \n",
       "...               ...                                                ...   \n",
       "526876  path:hsa05418  Fluid shear stress and atherosclerosis - Homo ...   \n",
       "526877  path:hsa05418  Fluid shear stress and atherosclerosis - Homo ...   \n",
       "526878  path:hsa05418  Fluid shear stress and atherosclerosis - Homo ...   \n",
       "526879  path:hsa05418  Fluid shear stress and atherosclerosis - Homo ...   \n",
       "526880  path:hsa05418  Fluid shear stress and atherosclerosis - Homo ...   \n",
       "\n",
       "          PATHWAY_ID2                                      PATHWAY_NAME2  \\\n",
       "0       path:hsa00040  Pentose and glucuronate interconversions - Hom...   \n",
       "1       path:hsa00040  Pentose and glucuronate interconversions - Hom...   \n",
       "2       path:hsa00051  Fructose and mannose metabolism - Homo sapiens...   \n",
       "3       path:hsa00052        Galactose metabolism - Homo sapiens (human)   \n",
       "4       path:hsa00053  Ascorbate and aldarate metabolism - Homo sapie...   \n",
       "...               ...                                                ...   \n",
       "526876  path:hsa05418  Fluid shear stress and atherosclerosis - Homo ...   \n",
       "526877  path:hsa05418  Fluid shear stress and atherosclerosis - Homo ...   \n",
       "526878  path:hsa05418  Fluid shear stress and atherosclerosis - Homo ...   \n",
       "526879  path:hsa05418  Fluid shear stress and atherosclerosis - Homo ...   \n",
       "526880  path:hsa05418  Fluid shear stress and atherosclerosis - Homo ...   \n",
       "\n",
       "        NUMBER_OF_OVERLAPPING_GENES              LIST_OF_OVERLAPPING_GENES  \n",
       "0                                 6  DD3; ALDR1; ALR; AKR1A1; ARM; HEL-S-6  \n",
       "1                                 1                                  ALDR1  \n",
       "2                                 1                                  ALDR1  \n",
       "3                                 1                                  ALDR1  \n",
       "4                                 6  DD3; ALDR1; ALR; AKR1A1; ARM; HEL-S-6  \n",
       "...                             ...                                    ...  \n",
       "526876                            6  caM; CAM3; CAMC; PHKD; CALML2; CAMIII  \n",
       "526877                            3                       CAM2; PHKD; CAMB  \n",
       "526878                            3                       PHKD; CALM; CAM1  \n",
       "526879                            1                                    CAV  \n",
       "526880                            1                                  VIP21  \n",
       "\n",
       "[526881 rows x 6 columns]"
      ]
     },
     "execution_count": 8,
     "metadata": {},
     "output_type": "execute_result"
    }
   ],
   "source": [
    "df_overlap_all"
   ]
  },
  {
   "cell_type": "markdown",
   "id": "cfa4c330-fcd2-47aa-820e-7686f6f3cf76",
   "metadata": {},
   "source": [
    "# Save the results"
   ]
  },
  {
   "cell_type": "code",
   "execution_count": 9,
   "id": "84c66a9c-06ee-4586-b5ef-df6b14f088e1",
   "metadata": {},
   "outputs": [],
   "source": [
    "c1=df_overlap_all[\"PATHWAY_ID1\"] != df_overlap_all[\"PATHWAY_ID2\"]\n",
    "df_overlap_all_final=df_overlap_all[c1].sort_values(by=\"NUMBER_OF_OVERLAPPING_GENES\", ascending=False)\n",
    "df_overlap_all_final.to_csv(\"KEGG_crosstalk.csv\", index=False)"
   ]
  },
  {
   "cell_type": "code",
   "execution_count": null,
   "id": "89d1789c-37ca-4bcc-acaa-7b22db832d5e",
   "metadata": {},
   "outputs": [],
   "source": []
  },
  {
   "cell_type": "code",
   "execution_count": 93,
   "id": "ef77fddd-fa09-4af6-b285-7192f8d3c3a6",
   "metadata": {},
   "outputs": [],
   "source": [
    "# Initialize\n",
    "\n"
   ]
  },
  {
   "cell_type": "code",
   "execution_count": null,
   "id": "f44bc11c-b690-43cb-8a7d-8664ece26b97",
   "metadata": {},
   "outputs": [],
   "source": [
    "gene_counter = Counter()\n",
    "print(gene_counter)"
   ]
  },
  {
   "cell_type": "code",
   "execution_count": null,
   "id": "47e0b565-1016-4bc3-b1ef-a1cd26317f66",
   "metadata": {},
   "outputs": [],
   "source": [
    "gene_counter = Counter()\n",
    "\n",
    "# Read through each row of the csv, index out only the list of overlapping genes, split by semicolon space and \n",
    "# add to a counter of genes. \n",
    "with open('gene_pathway_gene_symbols.csv', 'r') as file:\n",
    "    reader = csv.reader(file)\n",
    "    next(reader) # SKIP THAT HEADER!!!!!!!!\n",
    "    for row in reader:\n",
    "        items = row[0].split()\n",
    "        gene_counter.update(items)\n",
    "\n",
    "print(\"YESSSSSSSSSSSSSSSSSS\")"
   ]
  },
  {
   "cell_type": "code",
   "execution_count": null,
   "id": "f581314a-07cc-4f65-9f3e-f98b512bc095",
   "metadata": {},
   "outputs": [],
   "source": [
    "sorted_gene_counter = Counter(dict(gene_counter.most_common()))"
   ]
  },
  {
   "cell_type": "code",
   "execution_count": null,
   "id": "67533deb-50b8-440f-a012-22ed69db3510",
   "metadata": {},
   "outputs": [],
   "source": [
    "# Save genes to a txt file.\n",
    "\n",
    "with open('Gene_Counts.txt', 'w') as file:\n",
    "    for gene, count in sorted_gene_counter.items():\n",
    "        file.write(f\"{gene}: {count}\\n\")"
   ]
  },
  {
   "cell_type": "code",
   "execution_count": null,
   "id": "614f0208-9e09-464c-afdc-edc3956cae98",
   "metadata": {},
   "outputs": [],
   "source": [
    "# read in dataframe of gene pathways and gene symbols\n",
    "gene_df = pd.read_csv('gene_pathway_gene_symbols.csv')\n",
    "gene_df.head()"
   ]
  },
  {
   "cell_type": "code",
   "execution_count": null,
   "id": "66d810f4-c8d8-49d0-9bc0-c28c9a660441",
   "metadata": {},
   "outputs": [],
   "source": [
    "# make a dataframe of all rows that contain one of the top three \n",
    "top3_df = gene_df[gene_df['GENE_ID'].isin(top_three)]\n",
    "top3_df.head()"
   ]
  },
  {
   "cell_type": "markdown",
   "id": "a1f4e260-e436-4d60-9524-555519b69d72",
   "metadata": {},
   "source": [
    "### 5. Retrieve a set of the pathways the top 3 genes appear on."
   ]
  },
  {
   "cell_type": "code",
   "execution_count": 113,
   "id": "0f32c46c-1749-48e6-bd2d-00149bd8afbf",
   "metadata": {},
   "outputs": [
    {
     "data": {
      "text/plain": [
       "{'AGE-RAGE signaling pathway in diabetic complications - Homo sapiens (human)',\n",
       " 'AMPK signaling pathway - Homo sapiens (human)',\n",
       " 'Acute myeloid leukemia - Homo sapiens (human)',\n",
       " 'Adherens junction - Homo sapiens (human)',\n",
       " 'Adrenergic signaling in cardiomyocytes - Homo sapiens (human)',\n",
       " 'Alcoholism - Homo sapiens (human)',\n",
       " 'Aldosterone-regulated sodium reabsorption - Homo sapiens (human)',\n",
       " 'Alzheimer disease - Homo sapiens (human)',\n",
       " 'Amoebiasis - Homo sapiens (human)',\n",
       " 'Apelin signaling pathway - Homo sapiens (human)',\n",
       " 'Apoptosis - Homo sapiens (human)',\n",
       " 'Autophagy - animal - Homo sapiens (human)',\n",
       " 'Axon guidance - Homo sapiens (human)',\n",
       " 'B cell receptor signaling pathway - Homo sapiens (human)',\n",
       " 'Bacterial invasion of epithelial cells - Homo sapiens (human)',\n",
       " 'Bladder cancer - Homo sapiens (human)',\n",
       " 'Breast cancer - Homo sapiens (human)',\n",
       " 'C-type lectin receptor signaling pathway - Homo sapiens (human)',\n",
       " 'Carbohydrate digestion and absorption - Homo sapiens (human)',\n",
       " 'Cellular senescence - Homo sapiens (human)',\n",
       " 'Central carbon metabolism in cancer - Homo sapiens (human)',\n",
       " 'Chagas disease - Homo sapiens (human)',\n",
       " 'Chemical carcinogenesis - reactive oxygen species - Homo sapiens (human)',\n",
       " 'Chemical carcinogenesis - receptor activation - Homo sapiens (human)',\n",
       " 'Chemokine signaling pathway - Homo sapiens (human)',\n",
       " 'Choline metabolism in cancer - Homo sapiens (human)',\n",
       " 'Cholinergic synapse - Homo sapiens (human)',\n",
       " 'Chronic myeloid leukemia - Homo sapiens (human)',\n",
       " 'Circadian entrainment - Homo sapiens (human)',\n",
       " 'Colorectal cancer - Homo sapiens (human)',\n",
       " 'Coronavirus disease - COVID-19 - Homo sapiens (human)',\n",
       " 'Cushing syndrome - Homo sapiens (human)',\n",
       " 'Diabetic cardiomyopathy - Homo sapiens (human)',\n",
       " 'EGFR tyrosine kinase inhibitor resistance - Homo sapiens (human)',\n",
       " 'Efferocytosis - Homo sapiens (human)',\n",
       " 'Endocrine resistance - Homo sapiens (human)',\n",
       " 'Endometrial cancer - Homo sapiens (human)',\n",
       " 'Epstein-Barr virus infection - Homo sapiens (human)',\n",
       " 'ErbB signaling pathway - Homo sapiens (human)',\n",
       " 'Estrogen signaling pathway - Homo sapiens (human)',\n",
       " 'Fc epsilon RI signaling pathway - Homo sapiens (human)',\n",
       " 'Fc gamma R-mediated phagocytosis - Homo sapiens (human)',\n",
       " 'Fluid shear stress and atherosclerosis - Homo sapiens (human)',\n",
       " 'Focal adhesion - Homo sapiens (human)',\n",
       " 'FoxO signaling pathway - Homo sapiens (human)',\n",
       " 'Gap junction - Homo sapiens (human)',\n",
       " 'Gastric cancer - Homo sapiens (human)',\n",
       " 'Glioma - Homo sapiens (human)',\n",
       " 'Glutamatergic synapse - Homo sapiens (human)',\n",
       " 'GnRH secretion - Homo sapiens (human)',\n",
       " 'GnRH signaling pathway - Homo sapiens (human)',\n",
       " 'Growth hormone synthesis, secretion and action - Homo sapiens (human)',\n",
       " 'HIF-1 signaling pathway - Homo sapiens (human)',\n",
       " 'Hepatitis B - Homo sapiens (human)',\n",
       " 'Hepatitis C - Homo sapiens (human)',\n",
       " 'Hepatocellular carcinoma - Homo sapiens (human)',\n",
       " 'Herpes simplex virus 1 infection - Homo sapiens (human)',\n",
       " 'Human T-cell leukemia virus 1 infection - Homo sapiens (human)',\n",
       " 'Human cytomegalovirus infection - Homo sapiens (human)',\n",
       " 'Human immunodeficiency virus 1 infection - Homo sapiens (human)',\n",
       " 'Human papillomavirus infection - Homo sapiens (human)',\n",
       " 'IL-17 signaling pathway - Homo sapiens (human)',\n",
       " 'Inflammatory mediator regulation of TRP channels - Homo sapiens (human)',\n",
       " 'Influenza A - Homo sapiens (human)',\n",
       " 'Inositol phosphate metabolism - Homo sapiens (human)',\n",
       " 'Insulin resistance - Homo sapiens (human)',\n",
       " 'Insulin signaling pathway - Homo sapiens (human)',\n",
       " 'JAK-STAT signaling pathway - Homo sapiens (human)',\n",
       " 'Kaposi sarcoma-associated herpesvirus infection - Homo sapiens (human)',\n",
       " 'Leishmaniasis - Homo sapiens (human)',\n",
       " 'Leukocyte transendothelial migration - Homo sapiens (human)',\n",
       " 'Lipid and atherosclerosis - Homo sapiens (human)',\n",
       " 'Long-term depression - Homo sapiens (human)',\n",
       " 'Long-term potentiation - Homo sapiens (human)',\n",
       " 'Longevity regulating pathway - Homo sapiens (human)',\n",
       " 'Longevity regulating pathway - multiple species - Homo sapiens (human)',\n",
       " 'MAPK signaling pathway - Homo sapiens (human)',\n",
       " 'Measles - Homo sapiens (human)',\n",
       " 'Melanogenesis - Homo sapiens (human)',\n",
       " 'Melanoma - Homo sapiens (human)',\n",
       " 'Metabolic pathways - Homo sapiens (human)',\n",
       " 'MicroRNAs in cancer - Homo sapiens (human)',\n",
       " 'NOD-like receptor signaling pathway - Homo sapiens (human)',\n",
       " 'Natural killer cell mediated cytotoxicity - Homo sapiens (human)',\n",
       " 'Neurotrophin signaling pathway - Homo sapiens (human)',\n",
       " 'Neutrophil extracellular trap formation - Homo sapiens (human)',\n",
       " 'Non-alcoholic fatty liver disease - Homo sapiens (human)',\n",
       " 'Non-small cell lung cancer - Homo sapiens (human)',\n",
       " 'Oocyte meiosis - Homo sapiens (human)',\n",
       " 'Osteoclast differentiation - Homo sapiens (human)',\n",
       " 'Oxytocin signaling pathway - Homo sapiens (human)',\n",
       " 'PD-L1 expression and PD-1 checkpoint pathway in cancer - Homo sapiens (human)',\n",
       " 'PI3K-Akt signaling pathway - Homo sapiens (human)',\n",
       " 'Pancreatic cancer - Homo sapiens (human)',\n",
       " 'Parathyroid hormone synthesis, secretion and action - Homo sapiens (human)',\n",
       " 'Pathogenic Escherichia coli infection - Homo sapiens (human)',\n",
       " 'Pathways in cancer - Homo sapiens (human)',\n",
       " 'Pathways of neurodegeneration - multiple diseases - Homo sapiens (human)',\n",
       " 'Pertussis - Homo sapiens (human)',\n",
       " 'Phosphatidylinositol signaling system - Homo sapiens (human)',\n",
       " 'Phospholipase D signaling pathway - Homo sapiens (human)',\n",
       " 'Platelet activation - Homo sapiens (human)',\n",
       " 'Platinum drug resistance - Homo sapiens (human)',\n",
       " 'Prion disease - Homo sapiens (human)',\n",
       " 'Progesterone-mediated oocyte maturation - Homo sapiens (human)',\n",
       " 'Prolactin signaling pathway - Homo sapiens (human)',\n",
       " 'Prostate cancer - Homo sapiens (human)',\n",
       " 'Proteoglycans in cancer - Homo sapiens (human)',\n",
       " 'Rap1 signaling pathway - Homo sapiens (human)',\n",
       " 'Ras signaling pathway - Homo sapiens (human)',\n",
       " 'Regulation of actin cytoskeleton - Homo sapiens (human)',\n",
       " 'Regulation of lipolysis in adipocytes - Homo sapiens (human)',\n",
       " 'Relaxin signaling pathway - Homo sapiens (human)',\n",
       " 'Renal cell carcinoma - Homo sapiens (human)',\n",
       " 'Retrograde endocannabinoid signaling - Homo sapiens (human)',\n",
       " 'Salmonella infection - Homo sapiens (human)',\n",
       " 'Serotonergic synapse - Homo sapiens (human)',\n",
       " 'Shigellosis - Homo sapiens (human)',\n",
       " 'Signaling pathways regulating pluripotency of stem cells - Homo sapiens (human)',\n",
       " 'Small cell lung cancer - Homo sapiens (human)',\n",
       " 'Sphingolipid signaling pathway - Homo sapiens (human)',\n",
       " 'Spinocerebellar ataxia - Homo sapiens (human)',\n",
       " 'T cell receptor signaling pathway - Homo sapiens (human)',\n",
       " 'TGF-beta signaling pathway - Homo sapiens (human)',\n",
       " 'TNF signaling pathway - Homo sapiens (human)',\n",
       " 'Th1 and Th2 cell differentiation - Homo sapiens (human)',\n",
       " 'Th17 cell differentiation - Homo sapiens (human)',\n",
       " 'Thyroid cancer - Homo sapiens (human)',\n",
       " 'Thyroid hormone signaling pathway - Homo sapiens (human)',\n",
       " 'Toll-like receptor signaling pathway - Homo sapiens (human)',\n",
       " 'Toxoplasmosis - Homo sapiens (human)',\n",
       " 'Tuberculosis - Homo sapiens (human)',\n",
       " 'Type II diabetes mellitus - Homo sapiens (human)',\n",
       " 'VEGF signaling pathway - Homo sapiens (human)',\n",
       " 'Vascular smooth muscle contraction - Homo sapiens (human)',\n",
       " 'Viral carcinogenesis - Homo sapiens (human)',\n",
       " 'Yersinia infection - Homo sapiens (human)',\n",
       " 'cAMP signaling pathway - Homo sapiens (human)',\n",
       " 'cGMP-PKG signaling pathway - Homo sapiens (human)',\n",
       " 'mTOR signaling pathway - Homo sapiens (human)'}"
      ]
     },
     "execution_count": 113,
     "metadata": {},
     "output_type": "execute_result"
    }
   ],
   "source": [
    "# create list of all pathways that the top 3 genes appear on \n",
    "set(top3_df['PATHWAY_NAME'].unique().tolist())"
   ]
  },
  {
   "cell_type": "markdown",
   "id": "aa53ad3b-7aa8-47e8-a2f7-71edfa1fffbd",
   "metadata": {},
   "source": [
    "### 6. Compute and display a Venn diagram for number of overlapping pathways for the top 3 genes."
   ]
  },
  {
   "cell_type": "code",
   "execution_count": null,
   "id": "87858096-d14d-48fb-955c-8b6b982a402e",
   "metadata": {},
   "outputs": [],
   "source": [
    "# get top three genes from the list\n",
    "\n",
    "sorted_gene_counter2 = dict(gene_counter.most_common())\n",
    "top_three = list(sorted_gene_counter2.keys())[:3]\n",
    "top_three"
   ]
  },
  {
   "cell_type": "code",
   "execution_count": 95,
   "id": "ac347dc1-a66c-4b71-b9e6-ea47606b72c8",
   "metadata": {},
   "outputs": [],
   "source": [
    "# function that returns a set of pathways associated with a particular gene_id\n",
    "def pathway_setter(df, id):\n",
    "    paths = set(df.loc[df['GENE_ID'] == id, 'PATHWAY_NAME'])\n",
    "    return paths"
   ]
  },
  {
   "cell_type": "code",
   "execution_count": 97,
   "id": "9ef58c81-c1f6-4e45-af07-6bd4355a78f3",
   "metadata": {},
   "outputs": [],
   "source": [
    "# get the sets \n",
    "hsa_5595 = pathway_setter(gene_df, 'hsa:5595')"
   ]
  },
  {
   "cell_type": "code",
   "execution_count": 99,
   "id": "9c611770-ee49-459e-af26-f96977586e71",
   "metadata": {},
   "outputs": [],
   "source": [
    "hsa_5594 = pathway_setter(gene_df, 'hsa:5594')"
   ]
  },
  {
   "cell_type": "code",
   "execution_count": 101,
   "id": "5cc0ab08-28b2-4202-883e-4cfeb5a0823f",
   "metadata": {},
   "outputs": [],
   "source": [
    "hsa_5290 = pathway_setter(gene_df, 'hsa:5290')"
   ]
  },
  {
   "cell_type": "code",
   "execution_count": 103,
   "id": "73e023f7-d0b6-4115-b2b6-168bb9feee53",
   "metadata": {},
   "outputs": [
    {
     "data": {
      "text/plain": [
       "<matplotlib_venn._common.VennDiagram at 0x116f124c230>"
      ]
     },
     "execution_count": 103,
     "metadata": {},
     "output_type": "execute_result"
    },
    {
     "data": {
      "image/png": "[encoded data removed]",
      "text/plain": [
       "<Figure size 640x480 with 1 Axes>"
      ]
     },
     "metadata": {},
     "output_type": "display_data"
    }
   ],
   "source": [
    "venn3([hsa_5595, hsa_5594, hsa_5290], set_labels = top_three)"
   ]
  },
  {
   "cell_type": "markdown",
   "id": "e95a0f21-e366-42b9-9b84-66b4070df8bc",
   "metadata": {},
   "source": [
    "# Features"
   ]
  },
  {
   "cell_type": "markdown",
   "id": "5ccf10a2-dbb9-443d-8267-06923a301e2e",
   "metadata": {},
   "source": [
    "### Samantha Wheeler"
   ]
  },
  {
   "cell_type": "markdown",
   "id": "b0076bf9-041a-4161-bda4-b9ba077e898e",
   "metadata": {},
   "source": [
    "### Small GTPase pathway interactions in cancer\n",
    "[Small GTPases](https://en.wikipedia.org/wiki/Small_GTPase) are vital cellular signaling molecules. There are over 100 small GTPases across five subfamilies. The [Ras](https://en.wikipedia.org/wiki/Ras_GTPase) family is the best known and best-studied in the context of cancer proliferation; however, dysregulation of other small GTPases is known to be involved in carcinogenesis, as well as other diseases. Small GTPase signaling pathways are highly interconnected and understanding the crosstalk between them is a highly biologically relevant question. This feature allows the comparison and visualization of KEGG pathways between some of the most commonly studied small GTPases. "
   ]
  },
  {
   "cell_type": "code",
   "execution_count": 295,
   "id": "935edf3c-d9cc-4900-9eb6-989cc9d68303",
   "metadata": {},
   "outputs": [],
   "source": [
    "# dictionary of most common small GTPases associated with disease pathogenesis in general and cancer in particular\n",
    "# for further reading see https://www.mdpi.com/2072-6694/13/7/1500\n",
    "gtpase_dict = {'kras': 'hsa:4893',\n",
    "               'rhoa': 'hsa:387',\n",
    "               'arf1': 'hsa:375',\n",
    "               'rab1a': 'hsa:5861',\n",
    "               'ran': 'hsa:5901'\n",
    "              }"
   ]
  },
  {
   "cell_type": "code",
   "execution_count": 17,
   "id": "43e306d0-578e-4259-9777-8dd63f269c71",
   "metadata": {},
   "outputs": [],
   "source": [
    "# read in dataframe of gene symbols with pathways\n",
    "gene_df = pd.read_csv(\"gene_pathway_gene_symbols.csv\")"
   ]
  },
  {
   "cell_type": "markdown",
   "id": "8c4d09c6-2aa2-4ec5-a065-2ac1fda437fd",
   "metadata": {},
   "source": [
    "### Part one: create dictionary of small GTPases and their associated kegg pathways.\n",
    "This function takes the gene_pathway_gene_symbols csv and uses it to create a dictionary. This function is generalizable and could also be used to generate dictionaries of other disease genes and their assicated KEGG pathways."
   ]
  },
  {
   "cell_type": "code",
   "execution_count": 286,
   "id": "bbd70459-9b7d-4644-bad3-dfae694a56a7",
   "metadata": {},
   "outputs": [],
   "source": [
    "# function that returns a set of pathways associated with a particular gene_id\n",
    "def pathway_setter_deluxe(fdict, df):#, id):\n",
    "    key_list = fdict.keys()\n",
    "    val_list = []\n",
    "    for value in fdict.values():\n",
    "        val_list.append(set(gene_df.loc[gene_df['GENE_ID'] == value, 'PATHWAY_NAME']))\n",
    "    pathway_dict = dict(zip(key_list, val_list))\n",
    "    return pathway_dict\n"
   ]
  },
  {
   "cell_type": "code",
   "execution_count": 288,
   "id": "e8b2f6ed-c69f-4b7c-a5d2-1d44ba986b97",
   "metadata": {},
   "outputs": [
    {
     "data": {
      "text/plain": [
       "{'kras': {'AGE-RAGE signaling pathway in diabetic complications - Homo sapiens (human)',\n",
       "  'Acute myeloid leukemia - Homo sapiens (human)',\n",
       "  'Alcoholism - Homo sapiens (human)',\n",
       "  'Alzheimer disease - Homo sapiens (human)',\n",
       "  'Apelin signaling pathway - Homo sapiens (human)',\n",
       "  'Apoptosis - Homo sapiens (human)',\n",
       "  'Autophagy - animal - Homo sapiens (human)',\n",
       "  'Axon guidance - Homo sapiens (human)',\n",
       "  'B cell receptor signaling pathway - Homo sapiens (human)',\n",
       "  'Bladder cancer - Homo sapiens (human)',\n",
       "  'Breast cancer - Homo sapiens (human)',\n",
       "  'C-type lectin receptor signaling pathway - Homo sapiens (human)',\n",
       "  'Cellular senescence - Homo sapiens (human)',\n",
       "  'Central carbon metabolism in cancer - Homo sapiens (human)',\n",
       "  'Chemical carcinogenesis - reactive oxygen species - Homo sapiens (human)',\n",
       "  'Chemical carcinogenesis - receptor activation - Homo sapiens (human)',\n",
       "  'Chemokine signaling pathway - Homo sapiens (human)',\n",
       "  'Choline metabolism in cancer - Homo sapiens (human)',\n",
       "  'Cholinergic synapse - Homo sapiens (human)',\n",
       "  'Chronic myeloid leukemia - Homo sapiens (human)',\n",
       "  'Colorectal cancer - Homo sapiens (human)',\n",
       "  'EGFR tyrosine kinase inhibitor resistance - Homo sapiens (human)',\n",
       "  'Endocrine resistance - Homo sapiens (human)',\n",
       "  'Endometrial cancer - Homo sapiens (human)',\n",
       "  'ErbB signaling pathway - Homo sapiens (human)',\n",
       "  'Estrogen signaling pathway - Homo sapiens (human)',\n",
       "  'Fc epsilon RI signaling pathway - Homo sapiens (human)',\n",
       "  'FoxO signaling pathway - Homo sapiens (human)',\n",
       "  'Gap junction - Homo sapiens (human)',\n",
       "  'Gastric cancer - Homo sapiens (human)',\n",
       "  'Glioma - Homo sapiens (human)',\n",
       "  'GnRH secretion - Homo sapiens (human)',\n",
       "  'GnRH signaling pathway - Homo sapiens (human)',\n",
       "  'Growth hormone synthesis, secretion and action - Homo sapiens (human)',\n",
       "  'Hepatitis B - Homo sapiens (human)',\n",
       "  'Hepatitis C - Homo sapiens (human)',\n",
       "  'Hepatocellular carcinoma - Homo sapiens (human)',\n",
       "  'Human T-cell leukemia virus 1 infection - Homo sapiens (human)',\n",
       "  'Human cytomegalovirus infection - Homo sapiens (human)',\n",
       "  'Human immunodeficiency virus 1 infection - Homo sapiens (human)',\n",
       "  'Human papillomavirus infection - Homo sapiens (human)',\n",
       "  'Insulin signaling pathway - Homo sapiens (human)',\n",
       "  'Kaposi sarcoma-associated herpesvirus infection - Homo sapiens (human)',\n",
       "  'Lipid and atherosclerosis - Homo sapiens (human)',\n",
       "  'Long-term depression - Homo sapiens (human)',\n",
       "  'Long-term potentiation - Homo sapiens (human)',\n",
       "  'Longevity regulating pathway - Homo sapiens (human)',\n",
       "  'Longevity regulating pathway - multiple species - Homo sapiens (human)',\n",
       "  'MAPK signaling pathway - Homo sapiens (human)',\n",
       "  'Melanogenesis - Homo sapiens (human)',\n",
       "  'Melanoma - Homo sapiens (human)',\n",
       "  'MicroRNAs in cancer - Homo sapiens (human)',\n",
       "  'Mitophagy - animal - Homo sapiens (human)',\n",
       "  'Natural killer cell mediated cytotoxicity - Homo sapiens (human)',\n",
       "  'Neurotrophin signaling pathway - Homo sapiens (human)',\n",
       "  'Non-small cell lung cancer - Homo sapiens (human)',\n",
       "  'Oxytocin signaling pathway - Homo sapiens (human)',\n",
       "  'PD-L1 expression and PD-1 checkpoint pathway in cancer - Homo sapiens (human)',\n",
       "  'PI3K-Akt signaling pathway - Homo sapiens (human)',\n",
       "  'Pathways in cancer - Homo sapiens (human)',\n",
       "  'Pathways of neurodegeneration - multiple diseases - Homo sapiens (human)',\n",
       "  'Phospholipase D signaling pathway - Homo sapiens (human)',\n",
       "  'Prolactin signaling pathway - Homo sapiens (human)',\n",
       "  'Prostate cancer - Homo sapiens (human)',\n",
       "  'Proteoglycans in cancer - Homo sapiens (human)',\n",
       "  'Rap1 signaling pathway - Homo sapiens (human)',\n",
       "  'Ras signaling pathway - Homo sapiens (human)',\n",
       "  'Regulation of actin cytoskeleton - Homo sapiens (human)',\n",
       "  'Relaxin signaling pathway - Homo sapiens (human)',\n",
       "  'Renal cell carcinoma - Homo sapiens (human)',\n",
       "  'Serotonergic synapse - Homo sapiens (human)',\n",
       "  'Signaling pathways regulating pluripotency of stem cells - Homo sapiens (human)',\n",
       "  'Sphingolipid signaling pathway - Homo sapiens (human)',\n",
       "  'T cell receptor signaling pathway - Homo sapiens (human)',\n",
       "  'Thermogenesis - Homo sapiens (human)',\n",
       "  'Thyroid cancer - Homo sapiens (human)',\n",
       "  'Thyroid hormone signaling pathway - Homo sapiens (human)',\n",
       "  'VEGF signaling pathway - Homo sapiens (human)',\n",
       "  'Viral carcinogenesis - Homo sapiens (human)',\n",
       "  'mTOR signaling pathway - Homo sapiens (human)'},\n",
       " 'rhoa': {'Adherens junction - Homo sapiens (human)',\n",
       "  'Axon guidance - Homo sapiens (human)',\n",
       "  'Bacterial invasion of epithelial cells - Homo sapiens (human)',\n",
       "  'C-type lectin receptor signaling pathway - Homo sapiens (human)',\n",
       "  'Chemokine signaling pathway - Homo sapiens (human)',\n",
       "  'Colorectal cancer - Homo sapiens (human)',\n",
       "  'Endocytosis - Homo sapiens (human)',\n",
       "  'Fluid shear stress and atherosclerosis - Homo sapiens (human)',\n",
       "  'Focal adhesion - Homo sapiens (human)',\n",
       "  'Human cytomegalovirus infection - Homo sapiens (human)',\n",
       "  'Leukocyte transendothelial migration - Homo sapiens (human)',\n",
       "  'Lipid and atherosclerosis - Homo sapiens (human)',\n",
       "  'MicroRNAs in cancer - Homo sapiens (human)',\n",
       "  'NOD-like receptor signaling pathway - Homo sapiens (human)',\n",
       "  'Neurotrophin signaling pathway - Homo sapiens (human)',\n",
       "  'Oxytocin signaling pathway - Homo sapiens (human)',\n",
       "  'Pancreatic secretion - Homo sapiens (human)',\n",
       "  'Parathyroid hormone synthesis, secretion and action - Homo sapiens (human)',\n",
       "  'Pathogenic Escherichia coli infection - Homo sapiens (human)',\n",
       "  'Pathways in cancer - Homo sapiens (human)',\n",
       "  'Pertussis - Homo sapiens (human)',\n",
       "  'Phospholipase D signaling pathway - Homo sapiens (human)',\n",
       "  'Platelet activation - Homo sapiens (human)',\n",
       "  'Proteoglycans in cancer - Homo sapiens (human)',\n",
       "  'Rap1 signaling pathway - Homo sapiens (human)',\n",
       "  'Ras signaling pathway - Homo sapiens (human)',\n",
       "  'Regulation of actin cytoskeleton - Homo sapiens (human)',\n",
       "  'Salmonella infection - Homo sapiens (human)',\n",
       "  'Shigellosis - Homo sapiens (human)',\n",
       "  'Sphingolipid signaling pathway - Homo sapiens (human)',\n",
       "  'T cell receptor signaling pathway - Homo sapiens (human)',\n",
       "  'TGF-beta signaling pathway - Homo sapiens (human)',\n",
       "  'Tight junction - Homo sapiens (human)',\n",
       "  'Tuberculosis - Homo sapiens (human)',\n",
       "  'Vascular smooth muscle contraction - Homo sapiens (human)',\n",
       "  'Viral carcinogenesis - Homo sapiens (human)',\n",
       "  'Wnt signaling pathway - Homo sapiens (human)',\n",
       "  'Yersinia infection - Homo sapiens (human)',\n",
       "  'cAMP signaling pathway - Homo sapiens (human)',\n",
       "  'cGMP-PKG signaling pathway - Homo sapiens (human)',\n",
       "  'mTOR signaling pathway - Homo sapiens (human)'},\n",
       " 'arf1': {'Endocytosis - Homo sapiens (human)',\n",
       "  'Legionellosis - Homo sapiens (human)',\n",
       "  'Pathogenic Escherichia coli infection - Homo sapiens (human)',\n",
       "  'Phospholipase D signaling pathway - Homo sapiens (human)',\n",
       "  'Salmonella infection - Homo sapiens (human)',\n",
       "  'Shigellosis - Homo sapiens (human)',\n",
       "  'Vibrio cholerae infection - Homo sapiens (human)'},\n",
       " 'rab1a': {'Amyotrophic lateral sclerosis - Homo sapiens (human)',\n",
       "  'Autophagy - animal - Homo sapiens (human)',\n",
       "  'Legionellosis - Homo sapiens (human)',\n",
       "  'Pathogenic Escherichia coli infection - Homo sapiens (human)',\n",
       "  'Pathways of neurodegeneration - multiple diseases - Homo sapiens (human)'},\n",
       " 'ran': {'Human T-cell leukemia virus 1 infection - Homo sapiens (human)',\n",
       "  'Nucleocytoplasmic transport - Homo sapiens (human)',\n",
       "  'Ribosome biogenesis in eukaryotes - Homo sapiens (human)',\n",
       "  'Viral life cycle - HIV-1 - Homo sapiens (human)'}}"
      ]
     },
     "execution_count": 288,
     "metadata": {},
     "output_type": "execute_result"
    }
   ],
   "source": [
    "gtpase_pathways = pathway_setter_deluxe(gtpase_dict, gene_df)\n",
    "gtpase_pathways"
   ]
  },
  {
   "cell_type": "markdown",
   "id": "8b9c33d7-7de8-4305-8309-414025527d6a",
   "metadata": {},
   "source": [
    "### Comparison and visualization of KEGG pathways\n",
    "This function allows the comparison of KEGG pathways and puts out a venn diagram of how many pathways they have in common."
   ]
  },
  {
   "cell_type": "code",
   "execution_count": 271,
   "id": "6439918b-bc0a-43d7-8f96-1b10f33665ed",
   "metadata": {},
   "outputs": [],
   "source": [
    "def pathway_intersections(fdict, prot1, prot2):\n",
    "    protein1 = fdict[prot1]\n",
    "    protein2 = fdict[prot2]\n",
    "    intersect = protein1.intersection(protein2)\n",
    "    labels = [prot1, prot2]\n",
    "    venn2([protein1, protein2], set_labels = labels)\n",
    "    return intersect"
   ]
  },
  {
   "cell_type": "code",
   "execution_count": 273,
   "id": "7b3ec5da-e5a0-471c-8230-e7ca24839e22",
   "metadata": {
    "scrolled": true
   },
   "outputs": [
    {
     "data": {
      "text/plain": [
       "{'Axon guidance - Homo sapiens (human)',\n",
       " 'C-type lectin receptor signaling pathway - Homo sapiens (human)',\n",
       " 'Chemokine signaling pathway - Homo sapiens (human)',\n",
       " 'Colorectal cancer - Homo sapiens (human)',\n",
       " 'Human cytomegalovirus infection - Homo sapiens (human)',\n",
       " 'Lipid and atherosclerosis - Homo sapiens (human)',\n",
       " 'MicroRNAs in cancer - Homo sapiens (human)',\n",
       " 'Neurotrophin signaling pathway - Homo sapiens (human)',\n",
       " 'Oxytocin signaling pathway - Homo sapiens (human)',\n",
       " 'Pathways in cancer - Homo sapiens (human)',\n",
       " 'Phospholipase D signaling pathway - Homo sapiens (human)',\n",
       " 'Proteoglycans in cancer - Homo sapiens (human)',\n",
       " 'Rap1 signaling pathway - Homo sapiens (human)',\n",
       " 'Ras signaling pathway - Homo sapiens (human)',\n",
       " 'Regulation of actin cytoskeleton - Homo sapiens (human)',\n",
       " 'Sphingolipid signaling pathway - Homo sapiens (human)',\n",
       " 'T cell receptor signaling pathway - Homo sapiens (human)',\n",
       " 'Viral carcinogenesis - Homo sapiens (human)',\n",
       " 'mTOR signaling pathway - Homo sapiens (human)'}"
      ]
     },
     "execution_count": 273,
     "metadata": {},
     "output_type": "execute_result"
    },
    {
     "data": {
      "image/png": "[encoded data removed]",
      "text/plain": [
       "<Figure size 640x480 with 1 Axes>"
      ]
     },
     "metadata": {},
     "output_type": "display_data"
    }
   ],
   "source": [
    "# some examples of the function in action\n",
    "pathway_intersections(gtpase_pathways, 'rhoa', 'kras')"
   ]
  },
  {
   "cell_type": "code",
   "execution_count": 277,
   "id": "21bd3302-b2ea-48dc-b052-22710b50aa38",
   "metadata": {},
   "outputs": [
    {
     "data": {
      "text/plain": [
       "set()"
      ]
     },
     "execution_count": 277,
     "metadata": {},
     "output_type": "execute_result"
    },
    {
     "data": {
      "image/png": "[encoded data removed]",
      "text/plain": [
       "<Figure size 640x480 with 1 Axes>"
      ]
     },
     "metadata": {},
     "output_type": "display_data"
    }
   ],
   "source": [
    "pathway_intersections(gtpase_pathways, 'ran', 'rhoa')"
   ]
  },
  {
   "cell_type": "code",
   "execution_count": 290,
   "id": "a6226ac5-fb8f-42bb-afec-aafad87bfff5",
   "metadata": {},
   "outputs": [
    {
     "data": {
      "text/plain": [
       "{'Legionellosis - Homo sapiens (human)',\n",
       " 'Pathogenic Escherichia coli infection - Homo sapiens (human)'}"
      ]
     },
     "execution_count": 290,
     "metadata": {},
     "output_type": "execute_result"
    },
    {
     "data": {
      "image/png": "[encoded data removed]",
      "text/plain": [
       "<Figure size 640x480 with 1 Axes>"
      ]
     },
     "metadata": {},
     "output_type": "display_data"
    }
   ],
   "source": [
    "pathway_intersections(gtpase_pathways, 'rab1a', 'arf1')"
   ]
  },
  {
   "cell_type": "code",
   "execution_count": 305,
   "id": "9413b45b-b6d8-44dc-8c75-04dbfeb889f0",
   "metadata": {},
   "outputs": [
    {
     "data": {
      "text/plain": [
       "{'Autophagy - animal - Homo sapiens (human)',\n",
       " 'Pathways of neurodegeneration - multiple diseases - Homo sapiens (human)'}"
      ]
     },
     "execution_count": 305,
     "metadata": {},
     "output_type": "execute_result"
    },
    {
     "data": {
      "image/png": "[encoded data removed]",
      "text/plain": [
       "<Figure size 640x480 with 1 Axes>"
      ]
     },
     "metadata": {},
     "output_type": "display_data"
    }
   ],
   "source": [
    "pathway_intersections(gtpase_pathways, 'kras', 'rab1a')"
   ]
  },
  {
   "cell_type": "markdown",
   "id": "bcc2cccd-696c-421c-8a68-fac531a0da95",
   "metadata": {},
   "source": [
    "### Jacob Horn"
   ]
  },
  {
   "cell_type": "markdown",
   "id": "fe974518-3a16-4216-9074-dcecd3f701e6",
   "metadata": {},
   "source": [
    "### Luxuan Wang"
   ]
  },
  {
   "cell_type": "markdown",
   "id": "8614e7e2-99a7-4228-ab2f-da78b259059c",
   "metadata": {},
   "source": [
    "My feature addresses the follwing question:  \n",
    "What is the distribution of gene counts across KEGG pathways?  \n",
    "By analyzing the number of genes associated with each pathway, it help us understand overall structure and complexity of the KEGG pathway and indentfy the core pathways that may play important roles in biological systems."
   ]
  },
  {
   "cell_type": "code",
   "execution_count": 22,
   "id": "f83dd4d4-9ad9-4063-a84c-093cd9941d0b",
   "metadata": {},
   "outputs": [],
   "source": [
    "import matplotlib.pyplot as plt"
   ]
  },
  {
   "cell_type": "markdown",
   "id": "785f0176-7b3c-4bdc-9ef9-db703ca1b593",
   "metadata": {},
   "source": [
    "### Count the number of genes associated with each pathway"
   ]
  },
  {
   "cell_type": "markdown",
   "id": "46ddcc19-24c6-4c87-9aac-ddbb36e72ef5",
   "metadata": {},
   "source": [
    "By defining the count_genes_per_pathway function, we can group genes associated with the same pathway and calculate the number of genes within each pathway."
   ]
  },
  {
   "cell_type": "code",
   "execution_count": 27,
   "id": "da4203ff-194e-4ba0-9c77-2009f3facf72",
   "metadata": {},
   "outputs": [],
   "source": [
    "gene_pathway_df = pd.read_csv(\"./gene_pathway_gene_symbols.csv\")"
   ]
  },
  {
   "cell_type": "code",
   "execution_count": 30,
   "id": "6dbf60ef-21d2-4e50-a1dd-e772fd841e89",
   "metadata": {},
   "outputs": [],
   "source": [
    "def count_genes_per_pathway(gene_pathway_df):\n",
    "    pathway_counts = gene_pathway_df.groupby('PATHWAY_NAME')['GENE_ID'].count()\n",
    "    pathway_counts = pathway_counts.sort_values(ascending=False).reset_index()\n",
    "    pathway_counts.columns = ['Pathway', 'Gene_Count']\n",
    "    return pathway_counts\n",
    "\n",
    "gene_counts_df = count_genes_per_pathway(gene_pathway_df)"
   ]
  },
  {
   "cell_type": "code",
   "execution_count": 33,
   "id": "e4bbd3f6-70a3-40b8-9580-9c421335579b",
   "metadata": {},
   "outputs": [
    {
     "data": {
      "text/html": [
       "<div>\n",
       "<style scoped>\n",
       "    .dataframe tbody tr th:only-of-type {\n",
       "        vertical-align: middle;\n",
       "    }\n",
       "\n",
       "    .dataframe tbody tr th {\n",
       "        vertical-align: top;\n",
       "    }\n",
       "\n",
       "    .dataframe thead th {\n",
       "        text-align: right;\n",
       "    }\n",
       "</style>\n",
       "<table border=\"1\" class=\"dataframe\">\n",
       "  <thead>\n",
       "    <tr style=\"text-align: right;\">\n",
       "      <th></th>\n",
       "      <th>Pathway</th>\n",
       "      <th>Gene_Count</th>\n",
       "    </tr>\n",
       "  </thead>\n",
       "  <tbody>\n",
       "    <tr>\n",
       "      <th>0</th>\n",
       "      <td>Metabolic pathways - Homo sapiens (human)</td>\n",
       "      <td>1563</td>\n",
       "    </tr>\n",
       "    <tr>\n",
       "      <th>1</th>\n",
       "      <td>Pathways in cancer - Homo sapiens (human)</td>\n",
       "      <td>533</td>\n",
       "    </tr>\n",
       "    <tr>\n",
       "      <th>2</th>\n",
       "      <td>Herpes simplex virus 1 infection - Homo sapien...</td>\n",
       "      <td>523</td>\n",
       "    </tr>\n",
       "    <tr>\n",
       "      <th>3</th>\n",
       "      <td>Pathways of neurodegeneration - multiple disea...</td>\n",
       "      <td>483</td>\n",
       "    </tr>\n",
       "    <tr>\n",
       "      <th>4</th>\n",
       "      <td>Olfactory transduction - Homo sapiens (human)</td>\n",
       "      <td>453</td>\n",
       "    </tr>\n",
       "    <tr>\n",
       "      <th>...</th>\n",
       "      <td>...</td>\n",
       "      <td>...</td>\n",
       "    </tr>\n",
       "    <tr>\n",
       "      <th>356</th>\n",
       "      <td>Neomycin, kanamycin and gentamicin biosynthesi...</td>\n",
       "      <td>5</td>\n",
       "    </tr>\n",
       "    <tr>\n",
       "      <th>357</th>\n",
       "      <td>Virion - Adenovirus - Homo sapiens (human)</td>\n",
       "      <td>4</td>\n",
       "    </tr>\n",
       "    <tr>\n",
       "      <th>358</th>\n",
       "      <td>Valine, leucine and isoleucine biosynthesis - ...</td>\n",
       "      <td>4</td>\n",
       "    </tr>\n",
       "    <tr>\n",
       "      <th>359</th>\n",
       "      <td>Biotin metabolism - Homo sapiens (human)</td>\n",
       "      <td>3</td>\n",
       "    </tr>\n",
       "    <tr>\n",
       "      <th>360</th>\n",
       "      <td>Virion - Rotavirus - Homo sapiens (human)</td>\n",
       "      <td>2</td>\n",
       "    </tr>\n",
       "  </tbody>\n",
       "</table>\n",
       "<p>361 rows × 2 columns</p>\n",
       "</div>"
      ],
      "text/plain": [
       "                                               Pathway  Gene_Count\n",
       "0            Metabolic pathways - Homo sapiens (human)        1563\n",
       "1            Pathways in cancer - Homo sapiens (human)         533\n",
       "2    Herpes simplex virus 1 infection - Homo sapien...         523\n",
       "3    Pathways of neurodegeneration - multiple disea...         483\n",
       "4        Olfactory transduction - Homo sapiens (human)         453\n",
       "..                                                 ...         ...\n",
       "356  Neomycin, kanamycin and gentamicin biosynthesi...           5\n",
       "357         Virion - Adenovirus - Homo sapiens (human)           4\n",
       "358  Valine, leucine and isoleucine biosynthesis - ...           4\n",
       "359           Biotin metabolism - Homo sapiens (human)           3\n",
       "360          Virion - Rotavirus - Homo sapiens (human)           2\n",
       "\n",
       "[361 rows x 2 columns]"
      ]
     },
     "execution_count": 33,
     "metadata": {},
     "output_type": "execute_result"
    }
   ],
   "source": [
    "gene_counts_df"
   ]
  },
  {
   "cell_type": "markdown",
   "id": "c267111e-c5b8-4eab-ac8f-456cdee9893b",
   "metadata": {},
   "source": [
    "### Plot the distribution of gene counts across pathways"
   ]
  },
  {
   "cell_type": "markdown",
   "id": "59fdf11f-37e5-4f2e-81d9-7f8c5b9b7182",
   "metadata": {},
   "source": [
    "Here, we visualize the distribution of gene counts across pathways by generating a histogram."
   ]
  },
  {
   "cell_type": "code",
   "execution_count": 40,
   "id": "66427ba4-4775-4969-ab1f-409eef04df47",
   "metadata": {},
   "outputs": [
    {
     "data": {
      "image/png": "[encoded data removed]",
      "text/plain": [
       "<Figure size 1000x800 with 1 Axes>"
      ]
     },
     "metadata": {},
     "output_type": "display_data"
    }
   ],
   "source": [
    "def plot_gene_count_distribution(gene_counts_df):\n",
    "    plt.figure(figsize=(10, 8))\n",
    "    plt.hist(gene_counts_df['Gene_Count'], bins=40, color='green',edgecolor='black')\n",
    "    plt.xlabel('Number of Genes per Pathway')\n",
    "    plt.ylabel('Frequency')\n",
    "    plt.title('Distribution of Gene Counts Across KEGG Pathways')\n",
    "    plt.xticks(range(0, int(plt.gca().get_xlim()[1]) + 1, 100))\n",
    "    plt.yticks(range(0, int(plt.gca().get_ylim()[1]) + 1, 10))\n",
    "    plt.show()\n",
    "\n",
    "# Plot the distribution of gene counts\n",
    "plot_gene_count_distribution(gene_counts_df)"
   ]
  },
  {
   "cell_type": "markdown",
   "id": "1962e087-3fde-4142-98f4-333624cddd01",
   "metadata": {},
   "source": [
    "### Analyze the distribution pattern of gene counts across pathways"
   ]
  },
  {
   "cell_type": "markdown",
   "id": "6f0cdd48-e81c-44b1-88e4-42d69513fc4b",
   "metadata": {},
   "source": [
    "Finally, we provide a numerical analysis of the distribution, calculating the maximum, minimum, median, and mean values to quantitatively characterize the pattern of gene counts across pathways."
   ]
  },
  {
   "cell_type": "code",
   "execution_count": 47,
   "id": "5653791b-61c1-4e17-b66f-a2c66a3241b0",
   "metadata": {},
   "outputs": [
    {
     "name": "stdout",
     "output_type": "stream",
     "text": [
      "Mean: 103.77008310249307\n",
      "Median: 78.0\n",
      "Max: 1563\n",
      "Min: 2\n"
     ]
    }
   ],
   "source": [
    "def analyze_distribution(gene_counts_df):\n",
    "    mean_count = gene_counts_df['Gene_Count'].mean()\n",
    "    median_count = gene_counts_df['Gene_Count'].median()\n",
    "    max_count = gene_counts_df['Gene_Count'].max()\n",
    "    min_count = gene_counts_df['Gene_Count'].min()\n",
    "    return {\n",
    "        \"Mean\": mean_count,\n",
    "        \"Median\": median_count,\n",
    "        \"Max\": max_count,\n",
    "        \"Min\": min_count\n",
    "    }\n",
    "\n",
    "distribution_summary = analyze_distribution(gene_counts_df)\n",
    "for key, value in distribution_summary.items():\n",
    "    print(f\"{key}: {value}\")"
   ]
  },
  {
   "cell_type": "markdown",
   "id": "b95fad4a-f671-46c9-a5a5-e53038d38976",
   "metadata": {},
   "source": [
    "### Results Interpretation"
   ]
  },
  {
   "cell_type": "markdown",
   "id": "e2a5383f-4ec9-454b-8ebc-b437a09a0086",
   "metadata": {},
   "source": [
    "From the figure, we can observe a long-tail pattern in the distribution of gene counts across KEGG pathways. Most pathways have relatively few genes, with the median pathway containing 78 genes. However, a small subset of pathways, such as the largest one with 1563 genes, stand out as outliers. These pathways are likely involved in highly complex and integrative biological processes, such as major metabolic or signaling networks. So, further we should investigate these gene-rich pathways to get insght in their biological roles and regulatory mechanisms."
   ]
  },
  {
   "cell_type": "markdown",
   "id": "7cb3b1b6-e434-417b-892f-e2a49c2a369c",
   "metadata": {},
   "source": [
    "### Ileanexis Madera Cuevas"
   ]
  }
 ],
 "metadata": {
  "kernelspec": {
   "display_name": "Python 3 (ipykernel)",
   "language": "python",
   "name": "python3"
  },
  "language_info": {
   "codemirror_mode": {
    "name": "ipython",
    "version": 3
   },
   "file_extension": ".py",
   "mimetype": "text/x-python",
   "name": "python",
   "nbconvert_exporter": "python",
   "pygments_lexer": "ipython3",
   "version": "3.9.18"
  }
 },
 "nbformat": 4,
 "nbformat_minor": 5
}
